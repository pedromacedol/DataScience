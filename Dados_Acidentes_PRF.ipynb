{
 "cells": [
  {
   "cell_type": "markdown",
   "metadata": {},
   "source": [
    "## Projeto 1\n",
    "#### Analisando dados de acidentes em 2019 e 2020 da Polícia Rodoviária Federal "
   ]
  },
  {
   "cell_type": "markdown",
   "metadata": {},
   "source": [
    "### 1º Tarefa:"
   ]
  },
  {
   "cell_type": "markdown",
   "metadata": {},
   "source": [
    "- Importando a biblioteca pandas como pd:"
   ]
  },
  {
   "cell_type": "code",
   "execution_count": 1,
   "metadata": {},
   "outputs": [],
   "source": [
    "import pandas as pd"
   ]
  },
  {
   "cell_type": "markdown",
   "metadata": {},
   "source": [
    "- Criando o Data Frame **dados19**, lendo o arquivo csv da PRF dos acidentes em 2019 através da função .read_csv(), separando com o parâmetro sep = ';' e codificando através do 'latin-1' :"
   ]
  },
  {
   "cell_type": "code",
   "execution_count": 2,
   "metadata": {},
   "outputs": [],
   "source": [
    "dados19 = pd.read_csv('https://raw.githubusercontent.com/pedromacedol/ESTATISTICA_APLICADA_A_COMPUTACAO/main/datatran2019.csv',sep = ';', encoding = 'latin-1')\n"
   ]
  },
  {
   "cell_type": "markdown",
   "metadata": {},
   "source": [
    "- Exibindo o data frame **dados19** referente aos acidentes de 2019:"
   ]
  },
  {
   "cell_type": "code",
   "execution_count": 3,
   "metadata": {
    "scrolled": false
   },
   "outputs": [
    {
     "data": {
      "text/html": [
       "<div>\n",
       "<style scoped>\n",
       "    .dataframe tbody tr th:only-of-type {\n",
       "        vertical-align: middle;\n",
       "    }\n",
       "\n",
       "    .dataframe tbody tr th {\n",
       "        vertical-align: top;\n",
       "    }\n",
       "\n",
       "    .dataframe thead th {\n",
       "        text-align: right;\n",
       "    }\n",
       "</style>\n",
       "<table border=\"1\" class=\"dataframe\">\n",
       "  <thead>\n",
       "    <tr style=\"text-align: right;\">\n",
       "      <th></th>\n",
       "      <th>id</th>\n",
       "      <th>data_inversa</th>\n",
       "      <th>dia_semana</th>\n",
       "      <th>horario</th>\n",
       "      <th>uf</th>\n",
       "      <th>br</th>\n",
       "      <th>km</th>\n",
       "      <th>municipio</th>\n",
       "      <th>causa_acidente</th>\n",
       "      <th>tipo_acidente</th>\n",
       "      <th>...</th>\n",
       "      <th>feridos_graves</th>\n",
       "      <th>ilesos</th>\n",
       "      <th>ignorados</th>\n",
       "      <th>feridos</th>\n",
       "      <th>veiculos</th>\n",
       "      <th>latitude</th>\n",
       "      <th>longitude</th>\n",
       "      <th>regional</th>\n",
       "      <th>delegacia</th>\n",
       "      <th>uop</th>\n",
       "    </tr>\n",
       "  </thead>\n",
       "  <tbody>\n",
       "    <tr>\n",
       "      <th>0</th>\n",
       "      <td>182210.0</td>\n",
       "      <td>2019-01-01</td>\n",
       "      <td>terça-feira</td>\n",
       "      <td>01:30:00</td>\n",
       "      <td>SP</td>\n",
       "      <td>116.0</td>\n",
       "      <td>218</td>\n",
       "      <td>GUARULHOS</td>\n",
       "      <td>Falta de Atenção à Condução</td>\n",
       "      <td>Colisão com objeto estático</td>\n",
       "      <td>...</td>\n",
       "      <td>0</td>\n",
       "      <td>0</td>\n",
       "      <td>0</td>\n",
       "      <td>4</td>\n",
       "      <td>1</td>\n",
       "      <td>-23,46052014</td>\n",
       "      <td>-46,48772478</td>\n",
       "      <td>SR-SP</td>\n",
       "      <td>DEL6/1</td>\n",
       "      <td>UOP01/SP</td>\n",
       "    </tr>\n",
       "    <tr>\n",
       "      <th>1</th>\n",
       "      <td>182211.0</td>\n",
       "      <td>2019-01-01</td>\n",
       "      <td>terça-feira</td>\n",
       "      <td>01:30:00</td>\n",
       "      <td>PR</td>\n",
       "      <td>373.0</td>\n",
       "      <td>177,3</td>\n",
       "      <td>PONTA GROSSA</td>\n",
       "      <td>Falta de Atenção à Condução</td>\n",
       "      <td>Colisão traseira</td>\n",
       "      <td>...</td>\n",
       "      <td>0</td>\n",
       "      <td>0</td>\n",
       "      <td>0</td>\n",
       "      <td>1</td>\n",
       "      <td>1</td>\n",
       "      <td>-25,05533957</td>\n",
       "      <td>-50,22776753</td>\n",
       "      <td>SR-PR</td>\n",
       "      <td>DEL7/3</td>\n",
       "      <td>UOP01/PR</td>\n",
       "    </tr>\n",
       "    <tr>\n",
       "      <th>2</th>\n",
       "      <td>182212.0</td>\n",
       "      <td>2019-01-01</td>\n",
       "      <td>terça-feira</td>\n",
       "      <td>00:45:00</td>\n",
       "      <td>SC</td>\n",
       "      <td>101.0</td>\n",
       "      <td>16</td>\n",
       "      <td>GARUVA</td>\n",
       "      <td>Animais na Pista</td>\n",
       "      <td>Colisão com objeto estático</td>\n",
       "      <td>...</td>\n",
       "      <td>0</td>\n",
       "      <td>0</td>\n",
       "      <td>0</td>\n",
       "      <td>1</td>\n",
       "      <td>1</td>\n",
       "      <td>-26,1216</td>\n",
       "      <td>-48,8826</td>\n",
       "      <td>SR-SC</td>\n",
       "      <td>DEL8/3</td>\n",
       "      <td>UOP01/SC</td>\n",
       "    </tr>\n",
       "    <tr>\n",
       "      <th>3</th>\n",
       "      <td>182214.0</td>\n",
       "      <td>2019-01-01</td>\n",
       "      <td>terça-feira</td>\n",
       "      <td>00:00:00</td>\n",
       "      <td>CE</td>\n",
       "      <td>20.0</td>\n",
       "      <td>429,5</td>\n",
       "      <td>FORTALEZA</td>\n",
       "      <td>Ingestão de Substâncias Psicoativas</td>\n",
       "      <td>Colisão com objeto estático</td>\n",
       "      <td>...</td>\n",
       "      <td>1</td>\n",
       "      <td>0</td>\n",
       "      <td>0</td>\n",
       "      <td>1</td>\n",
       "      <td>1</td>\n",
       "      <td>-3,76999</td>\n",
       "      <td>-38,670063</td>\n",
       "      <td>SR-CE</td>\n",
       "      <td>DEL16/1</td>\n",
       "      <td>UOP02/CE</td>\n",
       "    </tr>\n",
       "    <tr>\n",
       "      <th>4</th>\n",
       "      <td>182215.0</td>\n",
       "      <td>2019-01-01</td>\n",
       "      <td>terça-feira</td>\n",
       "      <td>01:00:00</td>\n",
       "      <td>MG</td>\n",
       "      <td>381.0</td>\n",
       "      <td>327</td>\n",
       "      <td>NOVA ERA</td>\n",
       "      <td>Falta de Atenção à Condução</td>\n",
       "      <td>Colisão transversal</td>\n",
       "      <td>...</td>\n",
       "      <td>1</td>\n",
       "      <td>1</td>\n",
       "      <td>0</td>\n",
       "      <td>1</td>\n",
       "      <td>2</td>\n",
       "      <td>-19,7609</td>\n",
       "      <td>-43,0306</td>\n",
       "      <td>SR-MG</td>\n",
       "      <td>DEL4/3</td>\n",
       "      <td>UOP01/MG</td>\n",
       "    </tr>\n",
       "    <tr>\n",
       "      <th>...</th>\n",
       "      <td>...</td>\n",
       "      <td>...</td>\n",
       "      <td>...</td>\n",
       "      <td>...</td>\n",
       "      <td>...</td>\n",
       "      <td>...</td>\n",
       "      <td>...</td>\n",
       "      <td>...</td>\n",
       "      <td>...</td>\n",
       "      <td>...</td>\n",
       "      <td>...</td>\n",
       "      <td>...</td>\n",
       "      <td>...</td>\n",
       "      <td>...</td>\n",
       "      <td>...</td>\n",
       "      <td>...</td>\n",
       "      <td>...</td>\n",
       "      <td>...</td>\n",
       "      <td>...</td>\n",
       "      <td>...</td>\n",
       "      <td>...</td>\n",
       "    </tr>\n",
       "    <tr>\n",
       "      <th>67441</th>\n",
       "      <td>266255.0</td>\n",
       "      <td>2019-10-07</td>\n",
       "      <td>segunda-feira</td>\n",
       "      <td>09:10:00</td>\n",
       "      <td>ES</td>\n",
       "      <td>101.0</td>\n",
       "      <td>270,5</td>\n",
       "      <td>SERRA</td>\n",
       "      <td>Falta de Atenção à Condução</td>\n",
       "      <td>Tombamento</td>\n",
       "      <td>...</td>\n",
       "      <td>1</td>\n",
       "      <td>1</td>\n",
       "      <td>0</td>\n",
       "      <td>1</td>\n",
       "      <td>2</td>\n",
       "      <td>-20,23107</td>\n",
       "      <td>-40,27387</td>\n",
       "      <td>SR-ES</td>\n",
       "      <td>DEL12/2</td>\n",
       "      <td>UOP01/ES</td>\n",
       "    </tr>\n",
       "    <tr>\n",
       "      <th>67442</th>\n",
       "      <td>266406.0</td>\n",
       "      <td>2019-11-25</td>\n",
       "      <td>segunda-feira</td>\n",
       "      <td>07:20:00</td>\n",
       "      <td>PR</td>\n",
       "      <td>116.0</td>\n",
       "      <td>125</td>\n",
       "      <td>FAZENDA RIO GRANDE</td>\n",
       "      <td>Falta de Atenção à Condução</td>\n",
       "      <td>Colisão lateral</td>\n",
       "      <td>...</td>\n",
       "      <td>0</td>\n",
       "      <td>1</td>\n",
       "      <td>1</td>\n",
       "      <td>1</td>\n",
       "      <td>2</td>\n",
       "      <td>-25,59505</td>\n",
       "      <td>-49,31631</td>\n",
       "      <td>SR-PR</td>\n",
       "      <td>DEL7/1</td>\n",
       "      <td>UOP03/PR</td>\n",
       "    </tr>\n",
       "    <tr>\n",
       "      <th>67443</th>\n",
       "      <td>266434.0</td>\n",
       "      <td>2019-06-03</td>\n",
       "      <td>segunda-feira</td>\n",
       "      <td>19:00:00</td>\n",
       "      <td>CE</td>\n",
       "      <td>222.0</td>\n",
       "      <td>1,4</td>\n",
       "      <td>CAUCAIA</td>\n",
       "      <td>Não guardar distância de segurança</td>\n",
       "      <td>Colisão traseira</td>\n",
       "      <td>...</td>\n",
       "      <td>1</td>\n",
       "      <td>1</td>\n",
       "      <td>0</td>\n",
       "      <td>1</td>\n",
       "      <td>2</td>\n",
       "      <td>-3,736507</td>\n",
       "      <td>-38,65337</td>\n",
       "      <td>SR-CE</td>\n",
       "      <td>DEL16/1</td>\n",
       "      <td>UOP01/CE</td>\n",
       "    </tr>\n",
       "    <tr>\n",
       "      <th>67444</th>\n",
       "      <td>266573.0</td>\n",
       "      <td>2019-07-13</td>\n",
       "      <td>sábado</td>\n",
       "      <td>19:35:00</td>\n",
       "      <td>PR</td>\n",
       "      <td>373.0</td>\n",
       "      <td>425</td>\n",
       "      <td>CANDOI</td>\n",
       "      <td>Defeito Mecânico no Veículo</td>\n",
       "      <td>Saída de leito carroçável</td>\n",
       "      <td>...</td>\n",
       "      <td>1</td>\n",
       "      <td>0</td>\n",
       "      <td>0</td>\n",
       "      <td>1</td>\n",
       "      <td>1</td>\n",
       "      <td>-25,7118</td>\n",
       "      <td>-52,18374</td>\n",
       "      <td>SR-PR</td>\n",
       "      <td>DEL7/3</td>\n",
       "      <td>UOP02/PR</td>\n",
       "    </tr>\n",
       "    <tr>\n",
       "      <th>67445</th>\n",
       "      <td>266627.0</td>\n",
       "      <td>2019-10-22</td>\n",
       "      <td>terça-feira</td>\n",
       "      <td>20:20:00</td>\n",
       "      <td>BA</td>\n",
       "      <td>324.0</td>\n",
       "      <td>608</td>\n",
       "      <td>SIMOES FILHO</td>\n",
       "      <td>Defeito na Via</td>\n",
       "      <td>Queda de ocupante de veículo</td>\n",
       "      <td>...</td>\n",
       "      <td>0</td>\n",
       "      <td>0</td>\n",
       "      <td>0</td>\n",
       "      <td>1</td>\n",
       "      <td>1</td>\n",
       "      <td>-12,78156</td>\n",
       "      <td>-38,41656</td>\n",
       "      <td>SR-BA</td>\n",
       "      <td>DEL10/1</td>\n",
       "      <td>UOP01/BA</td>\n",
       "    </tr>\n",
       "  </tbody>\n",
       "</table>\n",
       "<p>67446 rows × 30 columns</p>\n",
       "</div>"
      ],
      "text/plain": [
       "             id data_inversa     dia_semana   horario  uf     br     km  \\\n",
       "0      182210.0   2019-01-01    terça-feira  01:30:00  SP  116.0    218   \n",
       "1      182211.0   2019-01-01    terça-feira  01:30:00  PR  373.0  177,3   \n",
       "2      182212.0   2019-01-01    terça-feira  00:45:00  SC  101.0     16   \n",
       "3      182214.0   2019-01-01    terça-feira  00:00:00  CE   20.0  429,5   \n",
       "4      182215.0   2019-01-01    terça-feira  01:00:00  MG  381.0    327   \n",
       "...         ...          ...            ...       ...  ..    ...    ...   \n",
       "67441  266255.0   2019-10-07  segunda-feira  09:10:00  ES  101.0  270,5   \n",
       "67442  266406.0   2019-11-25  segunda-feira  07:20:00  PR  116.0    125   \n",
       "67443  266434.0   2019-06-03  segunda-feira  19:00:00  CE  222.0    1,4   \n",
       "67444  266573.0   2019-07-13         sábado  19:35:00  PR  373.0    425   \n",
       "67445  266627.0   2019-10-22    terça-feira  20:20:00  BA  324.0    608   \n",
       "\n",
       "                municipio                       causa_acidente  \\\n",
       "0               GUARULHOS          Falta de Atenção à Condução   \n",
       "1            PONTA GROSSA          Falta de Atenção à Condução   \n",
       "2                  GARUVA                     Animais na Pista   \n",
       "3               FORTALEZA  Ingestão de Substâncias Psicoativas   \n",
       "4                NOVA ERA          Falta de Atenção à Condução   \n",
       "...                   ...                                  ...   \n",
       "67441               SERRA          Falta de Atenção à Condução   \n",
       "67442  FAZENDA RIO GRANDE          Falta de Atenção à Condução   \n",
       "67443             CAUCAIA   Não guardar distância de segurança   \n",
       "67444              CANDOI          Defeito Mecânico no Veículo   \n",
       "67445        SIMOES FILHO                       Defeito na Via   \n",
       "\n",
       "                      tipo_acidente  ... feridos_graves ilesos ignorados  \\\n",
       "0       Colisão com objeto estático  ...              0      0         0   \n",
       "1                  Colisão traseira  ...              0      0         0   \n",
       "2       Colisão com objeto estático  ...              0      0         0   \n",
       "3       Colisão com objeto estático  ...              1      0         0   \n",
       "4               Colisão transversal  ...              1      1         0   \n",
       "...                             ...  ...            ...    ...       ...   \n",
       "67441                    Tombamento  ...              1      1         0   \n",
       "67442               Colisão lateral  ...              0      1         1   \n",
       "67443              Colisão traseira  ...              1      1         0   \n",
       "67444     Saída de leito carroçável  ...              1      0         0   \n",
       "67445  Queda de ocupante de veículo  ...              0      0         0   \n",
       "\n",
       "      feridos veiculos      latitude     longitude  regional  delegacia  \\\n",
       "0           4        1  -23,46052014  -46,48772478     SR-SP     DEL6/1   \n",
       "1           1        1  -25,05533957  -50,22776753     SR-PR     DEL7/3   \n",
       "2           1        1      -26,1216      -48,8826     SR-SC     DEL8/3   \n",
       "3           1        1      -3,76999    -38,670063     SR-CE    DEL16/1   \n",
       "4           1        2      -19,7609      -43,0306     SR-MG     DEL4/3   \n",
       "...       ...      ...           ...           ...       ...        ...   \n",
       "67441       1        2     -20,23107     -40,27387     SR-ES    DEL12/2   \n",
       "67442       1        2     -25,59505     -49,31631     SR-PR     DEL7/1   \n",
       "67443       1        2     -3,736507     -38,65337     SR-CE    DEL16/1   \n",
       "67444       1        1      -25,7118     -52,18374     SR-PR     DEL7/3   \n",
       "67445       1        1     -12,78156     -38,41656     SR-BA    DEL10/1   \n",
       "\n",
       "            uop  \n",
       "0      UOP01/SP  \n",
       "1      UOP01/PR  \n",
       "2      UOP01/SC  \n",
       "3      UOP02/CE  \n",
       "4      UOP01/MG  \n",
       "...         ...  \n",
       "67441  UOP01/ES  \n",
       "67442  UOP03/PR  \n",
       "67443  UOP01/CE  \n",
       "67444  UOP02/PR  \n",
       "67445  UOP01/BA  \n",
       "\n",
       "[67446 rows x 30 columns]"
      ]
     },
     "execution_count": 3,
     "metadata": {},
     "output_type": "execute_result"
    }
   ],
   "source": [
    "dados19"
   ]
  },
  {
   "cell_type": "markdown",
   "metadata": {
    "scrolled": false
   },
   "source": [
    "- Criando o Data Frame 'dados20', lendo o arquivo csv da PRF dos acidentes em 2020 através da função .read_csv(), separando com o parâmetro sep = ';' e codificando através do 'latin-1' :"
   ]
  },
  {
   "cell_type": "code",
   "execution_count": 4,
   "metadata": {},
   "outputs": [],
   "source": [
    "dados20 = pd.read_csv('https://raw.githubusercontent.com/pedromacedol/ESTATISTICA_APLICADA_A_COMPUTACAO/main/datatran2020.csv',sep = ';', encoding = 'latin-1')"
   ]
  },
  {
   "cell_type": "markdown",
   "metadata": {},
   "source": [
    "- Exibindo o data frame **dados20** referente aos acidentes de 2020:"
   ]
  },
  {
   "cell_type": "code",
   "execution_count": 5,
   "metadata": {},
   "outputs": [
    {
     "data": {
      "text/html": [
       "<div>\n",
       "<style scoped>\n",
       "    .dataframe tbody tr th:only-of-type {\n",
       "        vertical-align: middle;\n",
       "    }\n",
       "\n",
       "    .dataframe tbody tr th {\n",
       "        vertical-align: top;\n",
       "    }\n",
       "\n",
       "    .dataframe thead th {\n",
       "        text-align: right;\n",
       "    }\n",
       "</style>\n",
       "<table border=\"1\" class=\"dataframe\">\n",
       "  <thead>\n",
       "    <tr style=\"text-align: right;\">\n",
       "      <th></th>\n",
       "      <th>id</th>\n",
       "      <th>data_inversa</th>\n",
       "      <th>dia_semana</th>\n",
       "      <th>horario</th>\n",
       "      <th>uf</th>\n",
       "      <th>br</th>\n",
       "      <th>km</th>\n",
       "      <th>municipio</th>\n",
       "      <th>causa_acidente</th>\n",
       "      <th>tipo_acidente</th>\n",
       "      <th>...</th>\n",
       "      <th>feridos_graves</th>\n",
       "      <th>ilesos</th>\n",
       "      <th>ignorados</th>\n",
       "      <th>feridos</th>\n",
       "      <th>veiculos</th>\n",
       "      <th>latitude</th>\n",
       "      <th>longitude</th>\n",
       "      <th>regional</th>\n",
       "      <th>delegacia</th>\n",
       "      <th>uop</th>\n",
       "    </tr>\n",
       "  </thead>\n",
       "  <tbody>\n",
       "    <tr>\n",
       "      <th>0</th>\n",
       "      <td>260031.0</td>\n",
       "      <td>2020-01-01</td>\n",
       "      <td>quarta-feira</td>\n",
       "      <td>01:00:00</td>\n",
       "      <td>TO</td>\n",
       "      <td>153.0</td>\n",
       "      <td>678,1</td>\n",
       "      <td>GURUPI</td>\n",
       "      <td>Animais na Pista</td>\n",
       "      <td>Atropelamento de Animal</td>\n",
       "      <td>...</td>\n",
       "      <td>5</td>\n",
       "      <td>0</td>\n",
       "      <td>0</td>\n",
       "      <td>5</td>\n",
       "      <td>1</td>\n",
       "      <td>-11,77460203</td>\n",
       "      <td>-49,10744996</td>\n",
       "      <td>SR-TO</td>\n",
       "      <td>UOP01/TO</td>\n",
       "      <td>NaN</td>\n",
       "    </tr>\n",
       "    <tr>\n",
       "      <th>1</th>\n",
       "      <td>260036.0</td>\n",
       "      <td>2020-01-01</td>\n",
       "      <td>quarta-feira</td>\n",
       "      <td>01:00:00</td>\n",
       "      <td>RJ</td>\n",
       "      <td>116.0</td>\n",
       "      <td>178</td>\n",
       "      <td>NOVA IGUACU</td>\n",
       "      <td>Falta de Atenção do Pedestre</td>\n",
       "      <td>Atropelamento de Pedestre</td>\n",
       "      <td>...</td>\n",
       "      <td>0</td>\n",
       "      <td>1</td>\n",
       "      <td>0</td>\n",
       "      <td>0</td>\n",
       "      <td>1</td>\n",
       "      <td>-22,75223028</td>\n",
       "      <td>-43,4379103</td>\n",
       "      <td>SR-RJ</td>\n",
       "      <td>DEL5/1</td>\n",
       "      <td>UOP02/RJ</td>\n",
       "    </tr>\n",
       "    <tr>\n",
       "      <th>2</th>\n",
       "      <td>260037.0</td>\n",
       "      <td>2020-01-01</td>\n",
       "      <td>quarta-feira</td>\n",
       "      <td>01:52:00</td>\n",
       "      <td>SC</td>\n",
       "      <td>101.0</td>\n",
       "      <td>206,9</td>\n",
       "      <td>SAO JOSE</td>\n",
       "      <td>Ingestão de Álcool</td>\n",
       "      <td>Colisão lateral</td>\n",
       "      <td>...</td>\n",
       "      <td>0</td>\n",
       "      <td>1</td>\n",
       "      <td>0</td>\n",
       "      <td>1</td>\n",
       "      <td>2</td>\n",
       "      <td>-27,59193546</td>\n",
       "      <td>-48,61824557</td>\n",
       "      <td>SR-SC</td>\n",
       "      <td>DEL8/1</td>\n",
       "      <td>UOP01/SC</td>\n",
       "    </tr>\n",
       "    <tr>\n",
       "      <th>3</th>\n",
       "      <td>260038.0</td>\n",
       "      <td>2020-01-01</td>\n",
       "      <td>quarta-feira</td>\n",
       "      <td>01:15:00</td>\n",
       "      <td>RO</td>\n",
       "      <td>364.0</td>\n",
       "      <td>236</td>\n",
       "      <td>CACOAL</td>\n",
       "      <td>Velocidade Incompatível</td>\n",
       "      <td>Saída de leito carroçável</td>\n",
       "      <td>...</td>\n",
       "      <td>1</td>\n",
       "      <td>0</td>\n",
       "      <td>0</td>\n",
       "      <td>1</td>\n",
       "      <td>1</td>\n",
       "      <td>-11,44624577</td>\n",
       "      <td>-61,43761218</td>\n",
       "      <td>SR-RO</td>\n",
       "      <td>DEL21/2</td>\n",
       "      <td>UOP02/RO</td>\n",
       "    </tr>\n",
       "    <tr>\n",
       "      <th>4</th>\n",
       "      <td>260039.0</td>\n",
       "      <td>2020-01-01</td>\n",
       "      <td>quarta-feira</td>\n",
       "      <td>01:30:00</td>\n",
       "      <td>PR</td>\n",
       "      <td>153.0</td>\n",
       "      <td>360</td>\n",
       "      <td>REBOUCAS</td>\n",
       "      <td>Ingestão de Álcool</td>\n",
       "      <td>Capotamento</td>\n",
       "      <td>...</td>\n",
       "      <td>4</td>\n",
       "      <td>0</td>\n",
       "      <td>0</td>\n",
       "      <td>6</td>\n",
       "      <td>1</td>\n",
       "      <td>-25,67503796</td>\n",
       "      <td>-50,75089805</td>\n",
       "      <td>SR-PR</td>\n",
       "      <td>DEL7/3</td>\n",
       "      <td>UOP04/PR</td>\n",
       "    </tr>\n",
       "    <tr>\n",
       "      <th>...</th>\n",
       "      <td>...</td>\n",
       "      <td>...</td>\n",
       "      <td>...</td>\n",
       "      <td>...</td>\n",
       "      <td>...</td>\n",
       "      <td>...</td>\n",
       "      <td>...</td>\n",
       "      <td>...</td>\n",
       "      <td>...</td>\n",
       "      <td>...</td>\n",
       "      <td>...</td>\n",
       "      <td>...</td>\n",
       "      <td>...</td>\n",
       "      <td>...</td>\n",
       "      <td>...</td>\n",
       "      <td>...</td>\n",
       "      <td>...</td>\n",
       "      <td>...</td>\n",
       "      <td>...</td>\n",
       "      <td>...</td>\n",
       "      <td>...</td>\n",
       "    </tr>\n",
       "    <tr>\n",
       "      <th>63442</th>\n",
       "      <td>334713.0</td>\n",
       "      <td>2020-12-23</td>\n",
       "      <td>quarta-feira</td>\n",
       "      <td>13:58:00</td>\n",
       "      <td>PA</td>\n",
       "      <td>316.0</td>\n",
       "      <td>62</td>\n",
       "      <td>CASTANHAL</td>\n",
       "      <td>Ingestão de Álcool</td>\n",
       "      <td>Colisão traseira</td>\n",
       "      <td>...</td>\n",
       "      <td>0</td>\n",
       "      <td>2</td>\n",
       "      <td>0</td>\n",
       "      <td>1</td>\n",
       "      <td>2</td>\n",
       "      <td>-1,29786885</td>\n",
       "      <td>-47,93764104</td>\n",
       "      <td>SR-PA</td>\n",
       "      <td>UOP01</td>\n",
       "      <td>DEL01</td>\n",
       "    </tr>\n",
       "    <tr>\n",
       "      <th>63443</th>\n",
       "      <td>334777.0</td>\n",
       "      <td>2020-12-19</td>\n",
       "      <td>sábado</td>\n",
       "      <td>23:00:00</td>\n",
       "      <td>PA</td>\n",
       "      <td>316.0</td>\n",
       "      <td>106</td>\n",
       "      <td>SANTA MARIA DO PARA</td>\n",
       "      <td>Desobediência às normas de trânsito pelo condutor</td>\n",
       "      <td>Colisão frontal</td>\n",
       "      <td>...</td>\n",
       "      <td>0</td>\n",
       "      <td>1</td>\n",
       "      <td>0</td>\n",
       "      <td>1</td>\n",
       "      <td>2</td>\n",
       "      <td>-1,34101996</td>\n",
       "      <td>-47,55122901</td>\n",
       "      <td>SR-PA</td>\n",
       "      <td>UOP02</td>\n",
       "      <td>DEL01</td>\n",
       "    </tr>\n",
       "    <tr>\n",
       "      <th>63444</th>\n",
       "      <td>334780.0</td>\n",
       "      <td>2020-12-08</td>\n",
       "      <td>terça-feira</td>\n",
       "      <td>06:10:00</td>\n",
       "      <td>PR</td>\n",
       "      <td>116.0</td>\n",
       "      <td>90,9</td>\n",
       "      <td>PIRAQUARA</td>\n",
       "      <td>Condutor Dormindo</td>\n",
       "      <td>Colisão traseira</td>\n",
       "      <td>...</td>\n",
       "      <td>0</td>\n",
       "      <td>1</td>\n",
       "      <td>0</td>\n",
       "      <td>2</td>\n",
       "      <td>2</td>\n",
       "      <td>-25,4611174</td>\n",
       "      <td>-49,08880123</td>\n",
       "      <td>SR-PR</td>\n",
       "      <td>UOP01</td>\n",
       "      <td>DEL01</td>\n",
       "    </tr>\n",
       "    <tr>\n",
       "      <th>63445</th>\n",
       "      <td>334788.0</td>\n",
       "      <td>2020-12-31</td>\n",
       "      <td>quinta-feira</td>\n",
       "      <td>22:30:00</td>\n",
       "      <td>SC</td>\n",
       "      <td>101.0</td>\n",
       "      <td>146,9</td>\n",
       "      <td>ITAPEMA</td>\n",
       "      <td>Avarias e/ou desgaste excessivo no pneu</td>\n",
       "      <td>Colisão com objeto</td>\n",
       "      <td>...</td>\n",
       "      <td>0</td>\n",
       "      <td>0</td>\n",
       "      <td>0</td>\n",
       "      <td>0</td>\n",
       "      <td>1</td>\n",
       "      <td>-27,09129094</td>\n",
       "      <td>-48,61669064</td>\n",
       "      <td>SR-SC</td>\n",
       "      <td>UOP03</td>\n",
       "      <td>DEL04</td>\n",
       "    </tr>\n",
       "    <tr>\n",
       "      <th>63446</th>\n",
       "      <td>334959.0</td>\n",
       "      <td>2020-11-18</td>\n",
       "      <td>quarta-feira</td>\n",
       "      <td>18:00:00</td>\n",
       "      <td>AL</td>\n",
       "      <td>104.0</td>\n",
       "      <td>90,3</td>\n",
       "      <td>RIO LARGO</td>\n",
       "      <td>Falta de Atenção do Pedestre</td>\n",
       "      <td>Atropelamento de Pedestre</td>\n",
       "      <td>...</td>\n",
       "      <td>2</td>\n",
       "      <td>0</td>\n",
       "      <td>0</td>\n",
       "      <td>2</td>\n",
       "      <td>1</td>\n",
       "      <td>-9,50059087</td>\n",
       "      <td>-35,81127569</td>\n",
       "      <td>SR-AL</td>\n",
       "      <td>UOP01</td>\n",
       "      <td>DEL01</td>\n",
       "    </tr>\n",
       "  </tbody>\n",
       "</table>\n",
       "<p>63447 rows × 30 columns</p>\n",
       "</div>"
      ],
      "text/plain": [
       "             id data_inversa    dia_semana   horario  uf     br     km  \\\n",
       "0      260031.0   2020-01-01  quarta-feira  01:00:00  TO  153.0  678,1   \n",
       "1      260036.0   2020-01-01  quarta-feira  01:00:00  RJ  116.0    178   \n",
       "2      260037.0   2020-01-01  quarta-feira  01:52:00  SC  101.0  206,9   \n",
       "3      260038.0   2020-01-01  quarta-feira  01:15:00  RO  364.0    236   \n",
       "4      260039.0   2020-01-01  quarta-feira  01:30:00  PR  153.0    360   \n",
       "...         ...          ...           ...       ...  ..    ...    ...   \n",
       "63442  334713.0   2020-12-23  quarta-feira  13:58:00  PA  316.0     62   \n",
       "63443  334777.0   2020-12-19        sábado  23:00:00  PA  316.0    106   \n",
       "63444  334780.0   2020-12-08   terça-feira  06:10:00  PR  116.0   90,9   \n",
       "63445  334788.0   2020-12-31  quinta-feira  22:30:00  SC  101.0  146,9   \n",
       "63446  334959.0   2020-11-18  quarta-feira  18:00:00  AL  104.0   90,3   \n",
       "\n",
       "                 municipio                                     causa_acidente  \\\n",
       "0                   GURUPI                                   Animais na Pista   \n",
       "1              NOVA IGUACU                       Falta de Atenção do Pedestre   \n",
       "2                 SAO JOSE                                 Ingestão de Álcool   \n",
       "3                   CACOAL                            Velocidade Incompatível   \n",
       "4                 REBOUCAS                                 Ingestão de Álcool   \n",
       "...                    ...                                                ...   \n",
       "63442            CASTANHAL                                 Ingestão de Álcool   \n",
       "63443  SANTA MARIA DO PARA  Desobediência às normas de trânsito pelo condutor   \n",
       "63444            PIRAQUARA                                  Condutor Dormindo   \n",
       "63445              ITAPEMA            Avarias e/ou desgaste excessivo no pneu   \n",
       "63446            RIO LARGO                       Falta de Atenção do Pedestre   \n",
       "\n",
       "                   tipo_acidente  ... feridos_graves ilesos ignorados feridos  \\\n",
       "0        Atropelamento de Animal  ...              5      0         0       5   \n",
       "1      Atropelamento de Pedestre  ...              0      1         0       0   \n",
       "2                Colisão lateral  ...              0      1         0       1   \n",
       "3      Saída de leito carroçável  ...              1      0         0       1   \n",
       "4                    Capotamento  ...              4      0         0       6   \n",
       "...                          ...  ...            ...    ...       ...     ...   \n",
       "63442           Colisão traseira  ...              0      2         0       1   \n",
       "63443            Colisão frontal  ...              0      1         0       1   \n",
       "63444           Colisão traseira  ...              0      1         0       2   \n",
       "63445         Colisão com objeto  ...              0      0         0       0   \n",
       "63446  Atropelamento de Pedestre  ...              2      0         0       2   \n",
       "\n",
       "      veiculos      latitude     longitude  regional  delegacia       uop  \n",
       "0            1  -11,77460203  -49,10744996     SR-TO   UOP01/TO       NaN  \n",
       "1            1  -22,75223028   -43,4379103     SR-RJ     DEL5/1  UOP02/RJ  \n",
       "2            2  -27,59193546  -48,61824557     SR-SC     DEL8/1  UOP01/SC  \n",
       "3            1  -11,44624577  -61,43761218     SR-RO    DEL21/2  UOP02/RO  \n",
       "4            1  -25,67503796  -50,75089805     SR-PR     DEL7/3  UOP04/PR  \n",
       "...        ...           ...           ...       ...        ...       ...  \n",
       "63442        2   -1,29786885  -47,93764104     SR-PA      UOP01     DEL01  \n",
       "63443        2   -1,34101996  -47,55122901     SR-PA      UOP02     DEL01  \n",
       "63444        2   -25,4611174  -49,08880123     SR-PR      UOP01     DEL01  \n",
       "63445        1  -27,09129094  -48,61669064     SR-SC      UOP03     DEL04  \n",
       "63446        1   -9,50059087  -35,81127569     SR-AL      UOP01     DEL01  \n",
       "\n",
       "[63447 rows x 30 columns]"
      ]
     },
     "execution_count": 5,
     "metadata": {},
     "output_type": "execute_result"
    }
   ],
   "source": [
    "dados20"
   ]
  },
  {
   "cell_type": "markdown",
   "metadata": {},
   "source": [
    "### 2º Tarefa:\n",
    "### a) Quantos acidentes ocorreram em cada ano?"
   ]
  },
  {
   "cell_type": "markdown",
   "metadata": {},
   "source": [
    "- Exibindo o número de acidentes ocorridos em **2019** por meio da função print, o qual foi calculado através da funçao len utilizando como parâmetro o número de index(linhas) do arquivo, dado que cada index contém 1 acidente:"
   ]
  },
  {
   "cell_type": "code",
   "execution_count": 6,
   "metadata": {},
   "outputs": [
    {
     "name": "stdout",
     "output_type": "stream",
     "text": [
      "Ocorreram 67446 acidentes em 2019.\n"
     ]
    }
   ],
   "source": [
    "print(\"Ocorreram\", len(dados19.index),\"acidentes em 2019.\")"
   ]
  },
  {
   "cell_type": "markdown",
   "metadata": {},
   "source": [
    "- Exibindo o número de acidentes ocorridos em **2020** por meio da função print, o qual foi calculado através da funçao len utilizando como parâmetro o número de index(linhas) do arquivo, dado que cada index contém 1 acidente:"
   ]
  },
  {
   "cell_type": "code",
   "execution_count": 7,
   "metadata": {},
   "outputs": [
    {
     "name": "stdout",
     "output_type": "stream",
     "text": [
      "Ocorreram 63447 acidentes em 2020.\n"
     ]
    }
   ],
   "source": [
    "print(\"Ocorreram\", len(dados20.index),\"acidentes em 2020.\")"
   ]
  },
  {
   "cell_type": "markdown",
   "metadata": {},
   "source": [
    "### b) Quantas variáveis cada conjunto de dados registra?"
   ]
  },
  {
   "cell_type": "markdown",
   "metadata": {},
   "source": [
    "- Exibindo o número de variáveis existentes em **2019** por meio da função print, o qual foi calculado através da funçao len utilizando como parâmetro o número de columns(colunas) do arquivo, dado que cada coluna contém uma variável:\n"
   ]
  },
  {
   "cell_type": "code",
   "execution_count": 8,
   "metadata": {},
   "outputs": [
    {
     "name": "stdout",
     "output_type": "stream",
     "text": [
      "Existem 30 variáveis no conjunto de dados de 2019.\n"
     ]
    }
   ],
   "source": [
    "print(\"Existem\", len(dados19.columns),\"variáveis no conjunto de dados de 2019.\")"
   ]
  },
  {
   "cell_type": "markdown",
   "metadata": {
    "scrolled": true
   },
   "source": [
    "- Exibindo o número de variáveis existentes em **2020** por meio da função print, o qual foi calculado através da funçao len utilizando como parâmetro o número de columns(colunas) do arquivo, dado que cada coluna contém uma variável:"
   ]
  },
  {
   "cell_type": "code",
   "execution_count": 9,
   "metadata": {},
   "outputs": [
    {
     "name": "stdout",
     "output_type": "stream",
     "text": [
      "Existem 30 variáveis no conjunto de dados de 2020.\n"
     ]
    }
   ],
   "source": [
    "print(\"Existem\", len(dados20.columns),\"variáveis no conjunto de dados de 2020.\")"
   ]
  },
  {
   "cell_type": "markdown",
   "metadata": {},
   "source": [
    "### c) Quais as cinco cidades brasileiras onde mais ocorreram acidentes em rodovias federais?\n"
   ]
  },
  {
   "cell_type": "markdown",
   "metadata": {},
   "source": [
    "##### 2019"
   ]
  },
  {
   "cell_type": "markdown",
   "metadata": {},
   "source": [
    "- Selecionando a coluna 'municipio' do data frame **dados19**, contando o número total de acidentes em cada cidade através da função **.value_counts()** e inserindo na variável **a** em formato **series** :"
   ]
  },
  {
   "cell_type": "code",
   "execution_count": 10,
   "metadata": {},
   "outputs": [],
   "source": [
    "a = dados19['municipio'].value_counts()"
   ]
  },
  {
   "cell_type": "markdown",
   "metadata": {},
   "source": [
    "- Selecionando as 5 primeiras linhas de **a** e retirando o index com as funções **.head** e **.index**, transformando o resultado em lista por meio da função **list**, inserindo na função **.join** para retirar as chaves e transformando em **string** por meio de str:"
   ]
  },
  {
   "cell_type": "code",
   "execution_count": 11,
   "metadata": {
    "scrolled": true
   },
   "outputs": [],
   "source": [
    "a = str(', '.join(list((a.head(5).index))))"
   ]
  },
  {
   "cell_type": "markdown",
   "metadata": {},
   "source": [
    "- Exibindo as 5 cidades com maior número de acidentes em **2019** por meio da função print, através da variável **a**:\n"
   ]
  },
  {
   "cell_type": "code",
   "execution_count": 12,
   "metadata": {},
   "outputs": [
    {
     "name": "stdout",
     "output_type": "stream",
     "text": [
      "As 5 cidades com maior número de acidentes em 2019 foram: CURITIBA, BRASILIA, SAO JOSE, GUARULHOS, SERRA .\n"
     ]
    }
   ],
   "source": [
    "print(\"As 5 cidades com maior número de acidentes em 2019 foram:\",a,\".\")"
   ]
  },
  {
   "cell_type": "markdown",
   "metadata": {},
   "source": [
    "##### 2020"
   ]
  },
  {
   "cell_type": "markdown",
   "metadata": {},
   "source": [
    "- Selecionando a coluna 'municipio' do arquivo **dados20**, contando o número total de acidentes em cada cidade através da função **.value_counts()** e inserindo na variável **b** em formato **series** :"
   ]
  },
  {
   "cell_type": "code",
   "execution_count": 13,
   "metadata": {},
   "outputs": [],
   "source": [
    "b = dados20['municipio'].value_counts()"
   ]
  },
  {
   "cell_type": "markdown",
   "metadata": {},
   "source": [
    "- Selecionando as 5 primeiras linhas de **b** e retirando o index com as funções **.head** e **.index**, transformando o resultado em lista por meio da função **list**, inserindo na função **.join** para retirar as chaves e transformando em **string** por meio de str:"
   ]
  },
  {
   "cell_type": "code",
   "execution_count": 14,
   "metadata": {},
   "outputs": [],
   "source": [
    "b = str(', '.join(list((b.head(5).index))))"
   ]
  },
  {
   "cell_type": "markdown",
   "metadata": {},
   "source": [
    "- Exibindo as 5 cidades com maior número de acidentes em **2020** por meio da função print, através da variável **b**:"
   ]
  },
  {
   "cell_type": "code",
   "execution_count": 15,
   "metadata": {},
   "outputs": [
    {
     "name": "stdout",
     "output_type": "stream",
     "text": [
      "As 5 cidades com maior número de acidentes em 2020 foram: BRASILIA, CURITIBA, GUARULHOS, SAO JOSE, PALHOCA .\n"
     ]
    }
   ],
   "source": [
    "print(\"As 5 cidades com maior número de acidentes em 2020 foram:\",b,\".\")"
   ]
  },
  {
   "cell_type": "markdown",
   "metadata": {},
   "source": [
    "### d) Quantos acidentes com feridos graves aconteceram na Paraíba em 2019?\n"
   ]
  },
  {
   "cell_type": "markdown",
   "metadata": {},
   "source": [
    "- Criando a variável **paraiba** do tipo True, para salvar se o **valor** da column(variável) **'uf'** de **dados19** for igual a **'PB'**:\n",
    "\n",
    "\n"
   ]
  },
  {
   "cell_type": "code",
   "execution_count": 16,
   "metadata": {},
   "outputs": [],
   "source": [
    "paraiba = dados19['uf'] == \"PB\""
   ]
  },
  {
   "cell_type": "markdown",
   "metadata": {},
   "source": [
    "- Criando a variável **pb_grave** do tipo True, para salvar se o **valor** da column(variável) **'feridos_graves'** de **dados19** for maior ou igual a **1**:"
   ]
  },
  {
   "cell_type": "code",
   "execution_count": 17,
   "metadata": {},
   "outputs": [],
   "source": [
    "pb_grave = dados19['feridos_graves'] >= 1"
   ]
  },
  {
   "cell_type": "markdown",
   "metadata": {},
   "source": [
    "- Criando a variável **pb** do tipo True, para salvar todos os valores True de **paraiba** e **pb_grave**:"
   ]
  },
  {
   "cell_type": "code",
   "execution_count": 18,
   "metadata": {},
   "outputs": [
    {
     "data": {
      "text/html": [
       "<div>\n",
       "<style scoped>\n",
       "    .dataframe tbody tr th:only-of-type {\n",
       "        vertical-align: middle;\n",
       "    }\n",
       "\n",
       "    .dataframe tbody tr th {\n",
       "        vertical-align: top;\n",
       "    }\n",
       "\n",
       "    .dataframe thead th {\n",
       "        text-align: right;\n",
       "    }\n",
       "</style>\n",
       "<table border=\"1\" class=\"dataframe\">\n",
       "  <thead>\n",
       "    <tr style=\"text-align: right;\">\n",
       "      <th></th>\n",
       "      <th>id</th>\n",
       "      <th>data_inversa</th>\n",
       "      <th>dia_semana</th>\n",
       "      <th>horario</th>\n",
       "      <th>uf</th>\n",
       "      <th>br</th>\n",
       "      <th>km</th>\n",
       "      <th>municipio</th>\n",
       "      <th>causa_acidente</th>\n",
       "      <th>tipo_acidente</th>\n",
       "      <th>...</th>\n",
       "      <th>feridos_graves</th>\n",
       "      <th>ilesos</th>\n",
       "      <th>ignorados</th>\n",
       "      <th>feridos</th>\n",
       "      <th>veiculos</th>\n",
       "      <th>latitude</th>\n",
       "      <th>longitude</th>\n",
       "      <th>regional</th>\n",
       "      <th>delegacia</th>\n",
       "      <th>uop</th>\n",
       "    </tr>\n",
       "  </thead>\n",
       "  <tbody>\n",
       "    <tr>\n",
       "      <th>47</th>\n",
       "      <td>182271.0</td>\n",
       "      <td>2019-01-01</td>\n",
       "      <td>terça-feira</td>\n",
       "      <td>04:15:00</td>\n",
       "      <td>PB</td>\n",
       "      <td>361.0</td>\n",
       "      <td>38,8</td>\n",
       "      <td>CATINGUEIRA</td>\n",
       "      <td>Ingestão de Álcool</td>\n",
       "      <td>Saída de leito carroçável</td>\n",
       "      <td>...</td>\n",
       "      <td>1</td>\n",
       "      <td>0</td>\n",
       "      <td>0</td>\n",
       "      <td>1</td>\n",
       "      <td>1</td>\n",
       "      <td>-7,10157405</td>\n",
       "      <td>-37,60036469</td>\n",
       "      <td>SR-PB</td>\n",
       "      <td>DEL14/3</td>\n",
       "      <td>UOP01/PB</td>\n",
       "    </tr>\n",
       "    <tr>\n",
       "      <th>82</th>\n",
       "      <td>182312.0</td>\n",
       "      <td>2019-01-01</td>\n",
       "      <td>terça-feira</td>\n",
       "      <td>13:45:00</td>\n",
       "      <td>PB</td>\n",
       "      <td>230.0</td>\n",
       "      <td>18,9</td>\n",
       "      <td>JOAO PESSOA</td>\n",
       "      <td>Defeito Mecânico no Veículo</td>\n",
       "      <td>Tombamento</td>\n",
       "      <td>...</td>\n",
       "      <td>1</td>\n",
       "      <td>1</td>\n",
       "      <td>0</td>\n",
       "      <td>1</td>\n",
       "      <td>2</td>\n",
       "      <td>-7,129088</td>\n",
       "      <td>-34,850031</td>\n",
       "      <td>SR-PB</td>\n",
       "      <td>DEL14/1</td>\n",
       "      <td>UOP00/PB</td>\n",
       "    </tr>\n",
       "    <tr>\n",
       "      <th>357</th>\n",
       "      <td>182656.0</td>\n",
       "      <td>2019-01-03</td>\n",
       "      <td>quinta-feira</td>\n",
       "      <td>07:50:00</td>\n",
       "      <td>PB</td>\n",
       "      <td>101.0</td>\n",
       "      <td>81,3</td>\n",
       "      <td>BAYEUX</td>\n",
       "      <td>Desobediência às normas de trânsito pelo condutor</td>\n",
       "      <td>Colisão lateral</td>\n",
       "      <td>...</td>\n",
       "      <td>1</td>\n",
       "      <td>1</td>\n",
       "      <td>0</td>\n",
       "      <td>1</td>\n",
       "      <td>2</td>\n",
       "      <td>-7,126998</td>\n",
       "      <td>-34,941341</td>\n",
       "      <td>SR-PB</td>\n",
       "      <td>DEL14/1</td>\n",
       "      <td>UOP00/PB</td>\n",
       "    </tr>\n",
       "    <tr>\n",
       "      <th>564</th>\n",
       "      <td>183385.0</td>\n",
       "      <td>2019-01-04</td>\n",
       "      <td>sexta-feira</td>\n",
       "      <td>13:15:00</td>\n",
       "      <td>PB</td>\n",
       "      <td>230.0</td>\n",
       "      <td>17,8</td>\n",
       "      <td>JOAO PESSOA</td>\n",
       "      <td>Não guardar distância de segurança</td>\n",
       "      <td>Colisão traseira</td>\n",
       "      <td>...</td>\n",
       "      <td>1</td>\n",
       "      <td>1</td>\n",
       "      <td>0</td>\n",
       "      <td>2</td>\n",
       "      <td>2</td>\n",
       "      <td>-7,12064741</td>\n",
       "      <td>-34,84509414</td>\n",
       "      <td>SR-PB</td>\n",
       "      <td>DEL14/1</td>\n",
       "      <td>UOP00/PB</td>\n",
       "    </tr>\n",
       "    <tr>\n",
       "      <th>950</th>\n",
       "      <td>183831.0</td>\n",
       "      <td>2019-01-06</td>\n",
       "      <td>domingo</td>\n",
       "      <td>21:25:00</td>\n",
       "      <td>PB</td>\n",
       "      <td>101.0</td>\n",
       "      <td>10</td>\n",
       "      <td>MAMANGUAPE</td>\n",
       "      <td>Falta de Atenção à Condução</td>\n",
       "      <td>Colisão traseira</td>\n",
       "      <td>...</td>\n",
       "      <td>1</td>\n",
       "      <td>2</td>\n",
       "      <td>1</td>\n",
       "      <td>1</td>\n",
       "      <td>2</td>\n",
       "      <td>-6,5959</td>\n",
       "      <td>-35,1448</td>\n",
       "      <td>SR-PB</td>\n",
       "      <td>DEL14/1</td>\n",
       "      <td>UOP03/PB</td>\n",
       "    </tr>\n",
       "    <tr>\n",
       "      <th>...</th>\n",
       "      <td>...</td>\n",
       "      <td>...</td>\n",
       "      <td>...</td>\n",
       "      <td>...</td>\n",
       "      <td>...</td>\n",
       "      <td>...</td>\n",
       "      <td>...</td>\n",
       "      <td>...</td>\n",
       "      <td>...</td>\n",
       "      <td>...</td>\n",
       "      <td>...</td>\n",
       "      <td>...</td>\n",
       "      <td>...</td>\n",
       "      <td>...</td>\n",
       "      <td>...</td>\n",
       "      <td>...</td>\n",
       "      <td>...</td>\n",
       "      <td>...</td>\n",
       "      <td>...</td>\n",
       "      <td>...</td>\n",
       "      <td>...</td>\n",
       "    </tr>\n",
       "    <tr>\n",
       "      <th>66852</th>\n",
       "      <td>259567.0</td>\n",
       "      <td>2019-12-29</td>\n",
       "      <td>domingo</td>\n",
       "      <td>21:00:00</td>\n",
       "      <td>PB</td>\n",
       "      <td>230.0</td>\n",
       "      <td>27</td>\n",
       "      <td>JOAO PESSOA</td>\n",
       "      <td>Animais na Pista</td>\n",
       "      <td>Atropelamento de Animal</td>\n",
       "      <td>...</td>\n",
       "      <td>1</td>\n",
       "      <td>2</td>\n",
       "      <td>0</td>\n",
       "      <td>2</td>\n",
       "      <td>3</td>\n",
       "      <td>-7,1677</td>\n",
       "      <td>-34,8855</td>\n",
       "      <td>SR-PB</td>\n",
       "      <td>DEL14/1</td>\n",
       "      <td>UOP01/PB</td>\n",
       "    </tr>\n",
       "    <tr>\n",
       "      <th>66868</th>\n",
       "      <td>259583.0</td>\n",
       "      <td>2019-12-29</td>\n",
       "      <td>domingo</td>\n",
       "      <td>23:20:00</td>\n",
       "      <td>PB</td>\n",
       "      <td>230.0</td>\n",
       "      <td>9</td>\n",
       "      <td>CABEDELO</td>\n",
       "      <td>Falta de Atenção à Condução</td>\n",
       "      <td>Atropelamento de Pedestre</td>\n",
       "      <td>...</td>\n",
       "      <td>1</td>\n",
       "      <td>0</td>\n",
       "      <td>1</td>\n",
       "      <td>1</td>\n",
       "      <td>1</td>\n",
       "      <td>-7,047271</td>\n",
       "      <td>-34,84844</td>\n",
       "      <td>SR-PB</td>\n",
       "      <td>DEL14/1</td>\n",
       "      <td>UOP01/PB</td>\n",
       "    </tr>\n",
       "    <tr>\n",
       "      <th>66882</th>\n",
       "      <td>259597.0</td>\n",
       "      <td>2019-12-30</td>\n",
       "      <td>segunda-feira</td>\n",
       "      <td>03:50:00</td>\n",
       "      <td>PB</td>\n",
       "      <td>101.0</td>\n",
       "      <td>83,5</td>\n",
       "      <td>BAYEUX</td>\n",
       "      <td>Ingestão de Álcool</td>\n",
       "      <td>Colisão traseira</td>\n",
       "      <td>...</td>\n",
       "      <td>1</td>\n",
       "      <td>0</td>\n",
       "      <td>1</td>\n",
       "      <td>2</td>\n",
       "      <td>2</td>\n",
       "      <td>-7,13377</td>\n",
       "      <td>-34,92964</td>\n",
       "      <td>SR-PB</td>\n",
       "      <td>DEL14/1</td>\n",
       "      <td>UOP01/PB</td>\n",
       "    </tr>\n",
       "    <tr>\n",
       "      <th>66954</th>\n",
       "      <td>259678.0</td>\n",
       "      <td>2019-12-30</td>\n",
       "      <td>segunda-feira</td>\n",
       "      <td>15:35:00</td>\n",
       "      <td>PB</td>\n",
       "      <td>230.0</td>\n",
       "      <td>505</td>\n",
       "      <td>CAJAZEIRAS</td>\n",
       "      <td>Mal Súbito</td>\n",
       "      <td>Queda de ocupante de veículo</td>\n",
       "      <td>...</td>\n",
       "      <td>1</td>\n",
       "      <td>0</td>\n",
       "      <td>0</td>\n",
       "      <td>1</td>\n",
       "      <td>1</td>\n",
       "      <td>-6,8995</td>\n",
       "      <td>-38,5494</td>\n",
       "      <td>SR-PB</td>\n",
       "      <td>DEL14/3</td>\n",
       "      <td>UOP03/PB</td>\n",
       "    </tr>\n",
       "    <tr>\n",
       "      <th>67050</th>\n",
       "      <td>259780.0</td>\n",
       "      <td>2019-12-31</td>\n",
       "      <td>terça-feira</td>\n",
       "      <td>00:40:00</td>\n",
       "      <td>PB</td>\n",
       "      <td>101.0</td>\n",
       "      <td>122</td>\n",
       "      <td>CAAPORA</td>\n",
       "      <td>Velocidade Incompatível</td>\n",
       "      <td>Colisão traseira</td>\n",
       "      <td>...</td>\n",
       "      <td>1</td>\n",
       "      <td>1</td>\n",
       "      <td>0</td>\n",
       "      <td>1</td>\n",
       "      <td>2</td>\n",
       "      <td>-7,450382</td>\n",
       "      <td>-34,97994</td>\n",
       "      <td>SR-PB</td>\n",
       "      <td>DEL14/1</td>\n",
       "      <td>UOP01/PB</td>\n",
       "    </tr>\n",
       "  </tbody>\n",
       "</table>\n",
       "<p>414 rows × 30 columns</p>\n",
       "</div>"
      ],
      "text/plain": [
       "             id data_inversa     dia_semana   horario  uf     br    km  \\\n",
       "47     182271.0   2019-01-01    terça-feira  04:15:00  PB  361.0  38,8   \n",
       "82     182312.0   2019-01-01    terça-feira  13:45:00  PB  230.0  18,9   \n",
       "357    182656.0   2019-01-03   quinta-feira  07:50:00  PB  101.0  81,3   \n",
       "564    183385.0   2019-01-04    sexta-feira  13:15:00  PB  230.0  17,8   \n",
       "950    183831.0   2019-01-06        domingo  21:25:00  PB  101.0    10   \n",
       "...         ...          ...            ...       ...  ..    ...   ...   \n",
       "66852  259567.0   2019-12-29        domingo  21:00:00  PB  230.0    27   \n",
       "66868  259583.0   2019-12-29        domingo  23:20:00  PB  230.0     9   \n",
       "66882  259597.0   2019-12-30  segunda-feira  03:50:00  PB  101.0  83,5   \n",
       "66954  259678.0   2019-12-30  segunda-feira  15:35:00  PB  230.0   505   \n",
       "67050  259780.0   2019-12-31    terça-feira  00:40:00  PB  101.0   122   \n",
       "\n",
       "         municipio                                     causa_acidente  \\\n",
       "47     CATINGUEIRA                                 Ingestão de Álcool   \n",
       "82     JOAO PESSOA                        Defeito Mecânico no Veículo   \n",
       "357         BAYEUX  Desobediência às normas de trânsito pelo condutor   \n",
       "564    JOAO PESSOA                 Não guardar distância de segurança   \n",
       "950     MAMANGUAPE                        Falta de Atenção à Condução   \n",
       "...            ...                                                ...   \n",
       "66852  JOAO PESSOA                                   Animais na Pista   \n",
       "66868     CABEDELO                        Falta de Atenção à Condução   \n",
       "66882       BAYEUX                                 Ingestão de Álcool   \n",
       "66954   CAJAZEIRAS                                         Mal Súbito   \n",
       "67050      CAAPORA                            Velocidade Incompatível   \n",
       "\n",
       "                      tipo_acidente  ... feridos_graves ilesos ignorados  \\\n",
       "47        Saída de leito carroçável  ...              1      0         0   \n",
       "82                       Tombamento  ...              1      1         0   \n",
       "357                 Colisão lateral  ...              1      1         0   \n",
       "564                Colisão traseira  ...              1      1         0   \n",
       "950                Colisão traseira  ...              1      2         1   \n",
       "...                             ...  ...            ...    ...       ...   \n",
       "66852       Atropelamento de Animal  ...              1      2         0   \n",
       "66868     Atropelamento de Pedestre  ...              1      0         1   \n",
       "66882              Colisão traseira  ...              1      0         1   \n",
       "66954  Queda de ocupante de veículo  ...              1      0         0   \n",
       "67050              Colisão traseira  ...              1      1         0   \n",
       "\n",
       "      feridos veiculos     latitude     longitude  regional  delegacia  \\\n",
       "47          1        1  -7,10157405  -37,60036469     SR-PB    DEL14/3   \n",
       "82          1        2    -7,129088    -34,850031     SR-PB    DEL14/1   \n",
       "357         1        2    -7,126998    -34,941341     SR-PB    DEL14/1   \n",
       "564         2        2  -7,12064741  -34,84509414     SR-PB    DEL14/1   \n",
       "950         1        2      -6,5959      -35,1448     SR-PB    DEL14/1   \n",
       "...       ...      ...          ...           ...       ...        ...   \n",
       "66852       2        3      -7,1677      -34,8855     SR-PB    DEL14/1   \n",
       "66868       1        1    -7,047271     -34,84844     SR-PB    DEL14/1   \n",
       "66882       2        2     -7,13377     -34,92964     SR-PB    DEL14/1   \n",
       "66954       1        1      -6,8995      -38,5494     SR-PB    DEL14/3   \n",
       "67050       1        2    -7,450382     -34,97994     SR-PB    DEL14/1   \n",
       "\n",
       "            uop  \n",
       "47     UOP01/PB  \n",
       "82     UOP00/PB  \n",
       "357    UOP00/PB  \n",
       "564    UOP00/PB  \n",
       "950    UOP03/PB  \n",
       "...         ...  \n",
       "66852  UOP01/PB  \n",
       "66868  UOP01/PB  \n",
       "66882  UOP01/PB  \n",
       "66954  UOP03/PB  \n",
       "67050  UOP01/PB  \n",
       "\n",
       "[414 rows x 30 columns]"
      ]
     },
     "execution_count": 18,
     "metadata": {},
     "output_type": "execute_result"
    }
   ],
   "source": [
    "pb = dados19[paraiba & pb_grave]\n",
    "pb"
   ]
  },
  {
   "cell_type": "markdown",
   "metadata": {},
   "source": [
    "\n",
    "- Exibindo o número de acidentes com feridos graves na Paraíba em 2019 por meio da função **print**, o qual foi calculado através da funçao **len** utilizando como parâmetro o número de columns(colunas) do arquivo, dado que só existem acidentes graves em **pb**:"
   ]
  },
  {
   "cell_type": "code",
   "execution_count": 19,
   "metadata": {},
   "outputs": [
    {
     "name": "stdout",
     "output_type": "stream",
     "text": [
      "Ocorreram 414 acidentes com feridos graves na Paraíba em 2019.\n"
     ]
    }
   ],
   "source": [
    "print(\"Ocorreram\",len(pb.index),\"acidentes com feridos graves na Paraíba em 2019.\")"
   ]
  },
  {
   "cell_type": "markdown",
   "metadata": {},
   "source": [
    "### 3º Tarefa:\n"
   ]
  },
  {
   "cell_type": "markdown",
   "metadata": {},
   "source": [
    "- Criando o data frame **dados** com a junção por meio das linhas de **dados19** e **dados20**, através da função **.concat()** usando o parâmetro **axis=0**:"
   ]
  },
  {
   "cell_type": "code",
   "execution_count": 20,
   "metadata": {},
   "outputs": [],
   "source": [
    "dados = pd.concat([dados19, dados20],axis=0)"
   ]
  },
  {
   "cell_type": "markdown",
   "metadata": {},
   "source": [
    "### a) Ranking de acidentes por estado para ambos os anos (um só arquivo combinando a informação dos dois anos):"
   ]
  },
  {
   "cell_type": "markdown",
   "metadata": {},
   "source": [
    "- Selecionando a coluna 'uf' do arquivo **dados**, contando o número total de acidentes em cada estado através da função **.value_counts()** e inserindo na variável **x** em formato **series**:"
   ]
  },
  {
   "cell_type": "code",
   "execution_count": 21,
   "metadata": {},
   "outputs": [],
   "source": [
    "x = dados['uf'].value_counts()"
   ]
  },
  {
   "cell_type": "markdown",
   "metadata": {},
   "source": [
    "- Criando o Data Frame **uf_acidentes**, usando como parâmetro as colunas **'UF'** que recebe os nomes dos estados por meio do **.index** de x e **'Num_acidentes'** que recebe o número de acidentes por estado através do **.values** de x:"
   ]
  },
  {
   "cell_type": "code",
   "execution_count": 22,
   "metadata": {},
   "outputs": [],
   "source": [
    "uf_acidentes = pd.DataFrame({'UF': x.index,'Num_acidentes': x.values})"
   ]
  },
  {
   "cell_type": "markdown",
   "metadata": {},
   "source": [
    "- Criando a coluna 'Posição' em uf_acidentes que recebe os valores da lista de números com range(1,28):"
   ]
  },
  {
   "cell_type": "code",
   "execution_count": 23,
   "metadata": {},
   "outputs": [],
   "source": [
    "uf_acidentes['Posição'] = list(range(1,28))"
   ]
  },
  {
   "cell_type": "markdown",
   "metadata": {},
   "source": [
    "- Substituindo o valor do index de **'uf_acidentes'** pela coluna **'Posição'**:"
   ]
  },
  {
   "cell_type": "code",
   "execution_count": 24,
   "metadata": {},
   "outputs": [],
   "source": [
    "uf_acidentes = uf_acidentes.set_index('Posição')"
   ]
  },
  {
   "cell_type": "markdown",
   "metadata": {},
   "source": [
    "- Exibindo o data frame **uf_acidentes** referente ao ranking por número de acidentes em cada estado de 2019 e 2020:"
   ]
  },
  {
   "cell_type": "code",
   "execution_count": 25,
   "metadata": {},
   "outputs": [
    {
     "data": {
      "text/html": [
       "<div>\n",
       "<style scoped>\n",
       "    .dataframe tbody tr th:only-of-type {\n",
       "        vertical-align: middle;\n",
       "    }\n",
       "\n",
       "    .dataframe tbody tr th {\n",
       "        vertical-align: top;\n",
       "    }\n",
       "\n",
       "    .dataframe thead th {\n",
       "        text-align: right;\n",
       "    }\n",
       "</style>\n",
       "<table border=\"1\" class=\"dataframe\">\n",
       "  <thead>\n",
       "    <tr style=\"text-align: right;\">\n",
       "      <th></th>\n",
       "      <th>UF</th>\n",
       "      <th>Num_acidentes</th>\n",
       "    </tr>\n",
       "    <tr>\n",
       "      <th>Posição</th>\n",
       "      <th></th>\n",
       "      <th></th>\n",
       "    </tr>\n",
       "  </thead>\n",
       "  <tbody>\n",
       "    <tr>\n",
       "      <th>1</th>\n",
       "      <td>MG</td>\n",
       "      <td>17083</td>\n",
       "    </tr>\n",
       "    <tr>\n",
       "      <th>2</th>\n",
       "      <td>SC</td>\n",
       "      <td>15645</td>\n",
       "    </tr>\n",
       "    <tr>\n",
       "      <th>3</th>\n",
       "      <td>PR</td>\n",
       "      <td>14876</td>\n",
       "    </tr>\n",
       "    <tr>\n",
       "      <th>4</th>\n",
       "      <td>RJ</td>\n",
       "      <td>8828</td>\n",
       "    </tr>\n",
       "    <tr>\n",
       "      <th>5</th>\n",
       "      <td>RS</td>\n",
       "      <td>8771</td>\n",
       "    </tr>\n",
       "    <tr>\n",
       "      <th>6</th>\n",
       "      <td>SP</td>\n",
       "      <td>8417</td>\n",
       "    </tr>\n",
       "    <tr>\n",
       "      <th>7</th>\n",
       "      <td>BA</td>\n",
       "      <td>6914</td>\n",
       "    </tr>\n",
       "    <tr>\n",
       "      <th>8</th>\n",
       "      <td>GO</td>\n",
       "      <td>6580</td>\n",
       "    </tr>\n",
       "    <tr>\n",
       "      <th>9</th>\n",
       "      <td>ES</td>\n",
       "      <td>5372</td>\n",
       "    </tr>\n",
       "    <tr>\n",
       "      <th>10</th>\n",
       "      <td>PE</td>\n",
       "      <td>5293</td>\n",
       "    </tr>\n",
       "    <tr>\n",
       "      <th>11</th>\n",
       "      <td>MT</td>\n",
       "      <td>4326</td>\n",
       "    </tr>\n",
       "    <tr>\n",
       "      <th>12</th>\n",
       "      <td>CE</td>\n",
       "      <td>3263</td>\n",
       "    </tr>\n",
       "    <tr>\n",
       "      <th>13</th>\n",
       "      <td>RO</td>\n",
       "      <td>3018</td>\n",
       "    </tr>\n",
       "    <tr>\n",
       "      <th>14</th>\n",
       "      <td>MS</td>\n",
       "      <td>2974</td>\n",
       "    </tr>\n",
       "    <tr>\n",
       "      <th>15</th>\n",
       "      <td>PB</td>\n",
       "      <td>2965</td>\n",
       "    </tr>\n",
       "    <tr>\n",
       "      <th>16</th>\n",
       "      <td>RN</td>\n",
       "      <td>2770</td>\n",
       "    </tr>\n",
       "    <tr>\n",
       "      <th>17</th>\n",
       "      <td>PI</td>\n",
       "      <td>2546</td>\n",
       "    </tr>\n",
       "    <tr>\n",
       "      <th>18</th>\n",
       "      <td>MA</td>\n",
       "      <td>2226</td>\n",
       "    </tr>\n",
       "    <tr>\n",
       "      <th>19</th>\n",
       "      <td>DF</td>\n",
       "      <td>2130</td>\n",
       "    </tr>\n",
       "    <tr>\n",
       "      <th>20</th>\n",
       "      <td>PA</td>\n",
       "      <td>1776</td>\n",
       "    </tr>\n",
       "    <tr>\n",
       "      <th>21</th>\n",
       "      <td>AL</td>\n",
       "      <td>1257</td>\n",
       "    </tr>\n",
       "    <tr>\n",
       "      <th>22</th>\n",
       "      <td>SE</td>\n",
       "      <td>1186</td>\n",
       "    </tr>\n",
       "    <tr>\n",
       "      <th>23</th>\n",
       "      <td>TO</td>\n",
       "      <td>1115</td>\n",
       "    </tr>\n",
       "    <tr>\n",
       "      <th>24</th>\n",
       "      <td>AC</td>\n",
       "      <td>554</td>\n",
       "    </tr>\n",
       "    <tr>\n",
       "      <th>25</th>\n",
       "      <td>RR</td>\n",
       "      <td>487</td>\n",
       "    </tr>\n",
       "    <tr>\n",
       "      <th>26</th>\n",
       "      <td>AP</td>\n",
       "      <td>283</td>\n",
       "    </tr>\n",
       "    <tr>\n",
       "      <th>27</th>\n",
       "      <td>AM</td>\n",
       "      <td>238</td>\n",
       "    </tr>\n",
       "  </tbody>\n",
       "</table>\n",
       "</div>"
      ],
      "text/plain": [
       "         UF  Num_acidentes\n",
       "Posição                   \n",
       "1        MG          17083\n",
       "2        SC          15645\n",
       "3        PR          14876\n",
       "4        RJ           8828\n",
       "5        RS           8771\n",
       "6        SP           8417\n",
       "7        BA           6914\n",
       "8        GO           6580\n",
       "9        ES           5372\n",
       "10       PE           5293\n",
       "11       MT           4326\n",
       "12       CE           3263\n",
       "13       RO           3018\n",
       "14       MS           2974\n",
       "15       PB           2965\n",
       "16       RN           2770\n",
       "17       PI           2546\n",
       "18       MA           2226\n",
       "19       DF           2130\n",
       "20       PA           1776\n",
       "21       AL           1257\n",
       "22       SE           1186\n",
       "23       TO           1115\n",
       "24       AC            554\n",
       "25       RR            487\n",
       "26       AP            283\n",
       "27       AM            238"
      ]
     },
     "execution_count": 25,
     "metadata": {},
     "output_type": "execute_result"
    }
   ],
   "source": [
    "uf_acidentes"
   ]
  },
  {
   "cell_type": "markdown",
   "metadata": {},
   "source": [
    "- Criando o arquivo **csv** 'ranking_acidentes.csv', utilizando o data frame **uf_acidentes**:"
   ]
  },
  {
   "cell_type": "code",
   "execution_count": 26,
   "metadata": {},
   "outputs": [],
   "source": [
    "uf_acidentes.to_csv('ranking_acidentes.csv')"
   ]
  },
  {
   "cell_type": "markdown",
   "metadata": {},
   "source": [
    "### b) Número de acidentes por dia da semana (um só arquivo combinando a informação dos dois anos):"
   ]
  },
  {
   "cell_type": "markdown",
   "metadata": {},
   "source": [
    "- Selecionando a coluna 'dia_semana' do arquivo **dados**, contando o número total de acidentes em cada dia da semana através da função **.value_counts()** e inserindo na variável **y** em formato **series**:"
   ]
  },
  {
   "cell_type": "code",
   "execution_count": 27,
   "metadata": {},
   "outputs": [],
   "source": [
    "y = dados['dia_semana'].value_counts()"
   ]
  },
  {
   "cell_type": "markdown",
   "metadata": {},
   "source": [
    "- Criando o Data Frame **dias_acidentes**, usando como parâmetro as colunas **'Dia_semana'** que recebe os dias por meio do **.index** de y e **'Num_acidentes'** que recebe o número de acidentes por estado através do **.values** de y:"
   ]
  },
  {
   "cell_type": "code",
   "execution_count": 28,
   "metadata": {},
   "outputs": [],
   "source": [
    "dias_acidentes = pd.DataFrame({'Num_acidentes': y.values,'Dia_semana': y.index})"
   ]
  },
  {
   "cell_type": "markdown",
   "metadata": {},
   "source": [
    "- Substituindo o valor do index de **'dias_acidentes'** pela coluna **'Dia_semana'**:"
   ]
  },
  {
   "cell_type": "code",
   "execution_count": 29,
   "metadata": {},
   "outputs": [],
   "source": [
    "dias_acidentes = dias_acidentes.set_index('Dia_semana')"
   ]
  },
  {
   "cell_type": "markdown",
   "metadata": {},
   "source": [
    "- Exibindo o data frame **dias_acidentes** referente ao número de acidentes por dia da semana de 2019 e 2020:"
   ]
  },
  {
   "cell_type": "code",
   "execution_count": 30,
   "metadata": {},
   "outputs": [
    {
     "data": {
      "text/html": [
       "<div>\n",
       "<style scoped>\n",
       "    .dataframe tbody tr th:only-of-type {\n",
       "        vertical-align: middle;\n",
       "    }\n",
       "\n",
       "    .dataframe tbody tr th {\n",
       "        vertical-align: top;\n",
       "    }\n",
       "\n",
       "    .dataframe thead th {\n",
       "        text-align: right;\n",
       "    }\n",
       "</style>\n",
       "<table border=\"1\" class=\"dataframe\">\n",
       "  <thead>\n",
       "    <tr style=\"text-align: right;\">\n",
       "      <th></th>\n",
       "      <th>Num_acidentes</th>\n",
       "    </tr>\n",
       "    <tr>\n",
       "      <th>Dia_semana</th>\n",
       "      <th></th>\n",
       "    </tr>\n",
       "  </thead>\n",
       "  <tbody>\n",
       "    <tr>\n",
       "      <th>sábado</th>\n",
       "      <td>21744</td>\n",
       "    </tr>\n",
       "    <tr>\n",
       "      <th>domingo</th>\n",
       "      <td>21706</td>\n",
       "    </tr>\n",
       "    <tr>\n",
       "      <th>sexta-feira</th>\n",
       "      <td>20131</td>\n",
       "    </tr>\n",
       "    <tr>\n",
       "      <th>segunda-feira</th>\n",
       "      <td>17638</td>\n",
       "    </tr>\n",
       "    <tr>\n",
       "      <th>quinta-feira</th>\n",
       "      <td>16981</td>\n",
       "    </tr>\n",
       "    <tr>\n",
       "      <th>quarta-feira</th>\n",
       "      <td>16516</td>\n",
       "    </tr>\n",
       "    <tr>\n",
       "      <th>terça-feira</th>\n",
       "      <td>16177</td>\n",
       "    </tr>\n",
       "  </tbody>\n",
       "</table>\n",
       "</div>"
      ],
      "text/plain": [
       "               Num_acidentes\n",
       "Dia_semana                  \n",
       "sábado                 21744\n",
       "domingo                21706\n",
       "sexta-feira            20131\n",
       "segunda-feira          17638\n",
       "quinta-feira           16981\n",
       "quarta-feira           16516\n",
       "terça-feira            16177"
      ]
     },
     "execution_count": 30,
     "metadata": {},
     "output_type": "execute_result"
    }
   ],
   "source": [
    "dias_acidentes "
   ]
  },
  {
   "cell_type": "markdown",
   "metadata": {},
   "source": [
    "- Criando o arquivo **csv** 'dia_acidentes.csv', utilizando o data frame **dias_acidentes**:"
   ]
  },
  {
   "cell_type": "code",
   "execution_count": 31,
   "metadata": {},
   "outputs": [],
   "source": [
    "dias_acidentes.to_csv('dia_acidentes.csv')"
   ]
  },
  {
   "cell_type": "markdown",
   "metadata": {},
   "source": [
    "### 4º Tarefa:"
   ]
  },
  {
   "cell_type": "markdown",
   "metadata": {},
   "source": [
    "### a) Qual a causa mais frequente e a mais rara de acidentes registrados nos dois anos?"
   ]
  },
  {
   "cell_type": "markdown",
   "metadata": {},
   "source": [
    "- Selecionando a coluna 'causa_acidente' do arquivo **dados**, contando e ordenando o número total de acidentes por causa através da função **.value_counts()** e inserindo na variável **causa** em formato **series** :"
   ]
  },
  {
   "cell_type": "code",
   "execution_count": 32,
   "metadata": {},
   "outputs": [],
   "source": [
    "causa = dados['causa_acidente'].value_counts()"
   ]
  },
  {
   "cell_type": "markdown",
   "metadata": {},
   "source": [
    "- Criando o Data Frame **causa_acidentes**, usando como parâmetro as colunas **'Causa'** que recebe as causas por meio do **.index** de causa e **'Num_acidentes'** que recebe o número de acidentes por estado através do **.values** de causa:"
   ]
  },
  {
   "cell_type": "code",
   "execution_count": 33,
   "metadata": {},
   "outputs": [],
   "source": [
    "causa_acidentes = pd.DataFrame({'Causa': causa.index,'Num_acidentes': causa.values})"
   ]
  },
  {
   "cell_type": "markdown",
   "metadata": {},
   "source": [
    "- Exibindo a causa mais frenquente dos acidentes por meio da função **print**, utilizando os parâmetros do data frame **causa** **['Causa'][0]**, pois contém o tipo mais recorrente, e o **['Num_acidentes'][0]** que contém o número de acidentes que ocorreram devido a este tipo de acidente."
   ]
  },
  {
   "cell_type": "code",
   "execution_count": 34,
   "metadata": {},
   "outputs": [
    {
     "name": "stdout",
     "output_type": "stream",
     "text": [
      "A causa mais frequentes de acidentes é Falta de Atenção à Condução com 47406 acidentes.\n"
     ]
    }
   ],
   "source": [
    "print(\"A causa mais frequentes de acidentes é %s com %d acidentes.\"%((causa_acidentes['Causa'][0]),(causa_acidentes['Num_acidentes'][0])))"
   ]
  },
  {
   "cell_type": "markdown",
   "metadata": {},
   "source": [
    "\n",
    "- Criando a variável **condicao** do tipo True, para salvar se o **valor** da column(variável) **'Num_acidentes'** de **causa_acidentes** for menor ou igual a **1**:"
   ]
  },
  {
   "cell_type": "code",
   "execution_count": 35,
   "metadata": {},
   "outputs": [],
   "source": [
    "condicao = causa_acidentes['Num_acidentes'] <= 1"
   ]
  },
  {
   "cell_type": "markdown",
   "metadata": {},
   "source": [
    "- Criando a variável **causa_restricao**, selecionando todos os elementos do data frame **causa_acidentes** que estão na coluna **'Causa'** e que atende a restrição da variável condicao, portanto **[condicao]['Causa']**, transformando o resultado em lista por meio da função **list**, inserindo na função **.join** para retirar as chaves e transformando em **string** por meio de str:"
   ]
  },
  {
   "cell_type": "code",
   "execution_count": 36,
   "metadata": {},
   "outputs": [],
   "source": [
    "causa_restricao = str(', '.join(list((causa_acidentes[condicao]['Causa']))))"
   ]
  },
  {
   "cell_type": "markdown",
   "metadata": {},
   "source": [
    "- Exibindo por meio da função **print** os tipos de acidentes que ocorrem com menor frequencia, utilizando a variável **causa_restrição** como parâmetro para %s:"
   ]
  },
  {
   "cell_type": "code",
   "execution_count": 37,
   "metadata": {},
   "outputs": [
    {
     "name": "stdout",
     "output_type": "stream",
     "text": [
      "As causas menos frequentes de acidentes com 1 acidente cada,são Ingestão de álcool ou de substâncias psicoativas pelo pedestre, Trafegar com motocicleta (ou similar) entre as faixas, Afundamento ou ondulação no pavimento, Acumulo de óleo sobre o pavimento, Acostamento em desnível, Pedestre cruzava a pista fora da faixa, Frear bruscamente, Ausência de sinalização, Condutor usando celular, Acumulo de água sobre o pavimento.\n"
     ]
    }
   ],
   "source": [
    "print(\"As causas menos frequentes de acidentes com 1 acidente cada,são %s.\"%causa_restricao)"
   ]
  },
  {
   "cell_type": "markdown",
   "metadata": {},
   "source": [
    "### b) Qual a proporção de pessoas ilesas e de feridos graves por mês em cada um dos anos considerados? (proporção = numero de ilesos ou feridos graves/ número total de pessoas envolvidas no acidente):"
   ]
  },
  {
   "cell_type": "markdown",
   "metadata": {},
   "source": [
    "- Adicionando a coluna **'Mês'** em **dados19** e preechendo com os valores resultantes da função **.DatetimeIndex**, que manipula dados do tipo data,hora e etc, usando o parâmetro **.month** para retirar o mês correspondente em cada linha."
   ]
  },
  {
   "cell_type": "code",
   "execution_count": 38,
   "metadata": {},
   "outputs": [],
   "source": [
    "dados19['Mês'] = pd.DatetimeIndex(dados19['data_inversa']).month"
   ]
  },
  {
   "cell_type": "markdown",
   "metadata": {},
   "source": [
    "- Adicionando a coluna **'Mês'** em **dados20** e preechendo com os valores resultantes da função **.DatetimeIndex**, que manipula dados do tipo data,hora e etc, usando o parâmetro **.month** para retirar o mês correspondente em cada linha:"
   ]
  },
  {
   "cell_type": "code",
   "execution_count": 39,
   "metadata": {},
   "outputs": [],
   "source": [
    "dados20['Mês'] = pd.DatetimeIndex(dados20['data_inversa']).month"
   ]
  },
  {
   "cell_type": "markdown",
   "metadata": {},
   "source": [
    "- **Comentários**:\n",
    "\n",
    "#0 Criando a função **mes** com o parâmetro **ano**, que recebe o conjunto de dados correspondente, e n, que \n",
    "recebe \n",
    "o mês em número.\n",
    "\n",
    "#1 Criando a variável m do tipo True, para salvar todos os verificar se existe o valor de n em em ano['Mês'].\n",
    "\n",
    "#2 'if' restringe se a soma dos elementos do conjunto de dados(ano) na coluna['ilesos'] que sejam True[m] e  \n",
    "maior que 0 para receber a **prop_ile**.\n",
    "\n",
    "#3 **prop_ile** recebe a proporção = numero de ilesos **(ano[m]['ilesos'].sum())** / número total de pessoas \n",
    "envolvidas \n",
    "nos acidentes **(ano[m]['pessoas'].sum())**.\n",
    "\n",
    "#4 'if' restringe se a soma dos elementos do conjunto de dados(ano) na coluna['feridos_graves'] que sejam \n",
    "True[m] e maior que 0 para receber a \n",
    "proporção = numero de ilesos/ número total de pessoas envolvidas nos acidentes.\n",
    "\n",
    "#5 **prop_fg** recebe a proporção = numero de feridos graves **(ano[m]['feridos_graves'].sum())** / número \n",
    "total de pessoas envolvidas nos acidentes **(ano[m]['feridos_graves'].sum())**.\n",
    "\n",
    "\n",
    "#6 Função **mes** retorna em formato de lista prop_ile e prop_fg.\n"
   ]
  },
  {
   "cell_type": "code",
   "execution_count": 40,
   "metadata": {},
   "outputs": [],
   "source": [
    "def mes(ano, n): #0\n",
    " \n",
    "    m = ano['Mês'] == n #1\n",
    "    \n",
    "    if ano[m]['ilesos'].sum() > 0: #2\n",
    "        prop_ile = ano[m]['ilesos'].sum()/(ano[m]['pessoas'].sum()) #3\n",
    "     \n",
    "    if ano[m]['feridos_graves'].sum() > 0: #4\n",
    "        prop_fg = ano[m]['feridos_graves'].sum()/(ano[m]['pessoas'].sum()) #5\n",
    "        \n",
    "    return [prop_ile,prop_fg] #6\n"
   ]
  },
  {
   "cell_type": "markdown",
   "metadata": {},
   "source": [
    "- Criando dicionário **dic** com mês em número que recebe o mês por extenso, para facilitar na hora do print das proporções:"
   ]
  },
  {
   "cell_type": "code",
   "execution_count": 54,
   "metadata": {},
   "outputs": [],
   "source": [
    "dic = {  \n",
    "        1: 'janeiro',\n",
    "        2:'fevereiro',\n",
    "        3:'março',\n",
    "        4:'abril',\n",
    "        5:'maio',\n",
    "        6:'junho',\n",
    "        7:'julho',\n",
    "        8:'agosto',\n",
    "        9:'setembro',\n",
    "        10:'outubro',\n",
    "        11:'novembro',\n",
    "        12:'dezembro'\n",
    "      }"
   ]
  },
  {
   "cell_type": "markdown",
   "metadata": {},
   "source": [
    "- Especificando os dados a serem mostrados por meio da função print:"
   ]
  },
  {
   "cell_type": "code",
   "execution_count": 56,
   "metadata": {},
   "outputs": [
    {
     "name": "stdout",
     "output_type": "stream",
     "text": [
      "DADOS 2019:\n",
      "\n"
     ]
    }
   ],
   "source": [
    "print('DADOS 2019:\\n')"
   ]
  },
  {
   "cell_type": "markdown",
   "metadata": {},
   "source": [
    "-Utilizando o laço de repetição **for** com 12 repetições, ou seja, o número de meses do ano\n",
    "para imprimir as proporções por mês.\n",
    "\n",
    "#0 *prop* recebe o resultado da função *mes* com o parametro (dados19,i);"
   ]
  },
  {
   "cell_type": "code",
   "execution_count": 43,
   "metadata": {},
   "outputs": [
    {
     "name": "stdout",
     "output_type": "stream",
     "text": [
      "A proporção de ilesos/número total de pessoas envolvidas no acidente = 0.424224\n",
      "e a de feridos graves/número total de pessoas envolvidas no acidente = 0.113264 \n",
      "em janeiro.\n",
      "\n",
      "A proporção de ilesos/número total de pessoas envolvidas no acidente = 0.424104\n",
      "e a de feridos graves/número total de pessoas envolvidas no acidente = 0.106789 \n",
      "em fevereiro.\n",
      "\n",
      "A proporção de ilesos/número total de pessoas envolvidas no acidente = 0.433193\n",
      "e a de feridos graves/número total de pessoas envolvidas no acidente = 0.114599 \n",
      "em março.\n",
      "\n",
      "A proporção de ilesos/número total de pessoas envolvidas no acidente = 0.415685\n",
      "e a de feridos graves/número total de pessoas envolvidas no acidente = 0.105970 \n",
      "em abril.\n",
      "\n",
      "A proporção de ilesos/número total de pessoas envolvidas no acidente = 0.415162\n",
      "e a de feridos graves/número total de pessoas envolvidas no acidente = 0.120750 \n",
      "em maio.\n",
      "\n",
      "A proporção de ilesos/número total de pessoas envolvidas no acidente = 0.423757\n",
      "e a de feridos graves/número total de pessoas envolvidas no acidente = 0.121617 \n",
      "em junho.\n",
      "\n",
      "A proporção de ilesos/número total de pessoas envolvidas no acidente = 0.436815\n",
      "e a de feridos graves/número total de pessoas envolvidas no acidente = 0.116670 \n",
      "em julho.\n",
      "\n",
      "A proporção de ilesos/número total de pessoas envolvidas no acidente = 0.413084\n",
      "e a de feridos graves/número total de pessoas envolvidas no acidente = 0.116683 \n",
      "em agosto.\n",
      "\n",
      "A proporção de ilesos/número total de pessoas envolvidas no acidente = 0.421064\n",
      "e a de feridos graves/número total de pessoas envolvidas no acidente = 0.110656 \n",
      "em setembro.\n",
      "\n",
      "A proporção de ilesos/número total de pessoas envolvidas no acidente = 0.418922\n",
      "e a de feridos graves/número total de pessoas envolvidas no acidente = 0.119805 \n",
      "em outubro.\n",
      "\n",
      "A proporção de ilesos/número total de pessoas envolvidas no acidente = 0.425812\n",
      "e a de feridos graves/número total de pessoas envolvidas no acidente = 0.111047 \n",
      "em novembro.\n",
      "\n",
      "A proporção de ilesos/número total de pessoas envolvidas no acidente = 0.422265\n",
      "e a de feridos graves/número total de pessoas envolvidas no acidente = 0.114405 \n",
      "em dezembro.\n",
      "\n"
     ]
    }
   ],
   "source": [
    "for i in range(1,13):\n",
    "    prop = mes(dados19,i) #0\n",
    "    print('A proporção de ilesos/número total de pessoas envolvidas no acidente = %f\\ne a de feridos graves/número total de pessoas envolvidas no acidente = %f \\nem %s.\\n'\n",
    "          %(prop[0], prop[1], dic[i]))"
   ]
  },
  {
   "cell_type": "markdown",
   "metadata": {},
   "source": [
    "- Especificando os dados a serem mostrados por meio da função print:"
   ]
  },
  {
   "cell_type": "code",
   "execution_count": 44,
   "metadata": {},
   "outputs": [
    {
     "name": "stdout",
     "output_type": "stream",
     "text": [
      "DADOS 2020:\n",
      "\n"
     ]
    }
   ],
   "source": [
    "print('DADOS 2020:\\n')"
   ]
  },
  {
   "cell_type": "markdown",
   "metadata": {},
   "source": [
    "-Utilizando o laço de repetição **for** com 12 repetições, ou seja, o número de meses do ano\n",
    "para imprimir as proporções por mês.\n",
    "\n",
    "#0 *prop* recebe o resultado da função *mes* com o parametro (dados20,i);"
   ]
  },
  {
   "cell_type": "code",
   "execution_count": 45,
   "metadata": {},
   "outputs": [
    {
     "name": "stdout",
     "output_type": "stream",
     "text": [
      "A proporção de ilesos/número total de pessoas envolvidas no acidente = 0.415565\n",
      "e a de feridos graves/número total de pessoas envolvidas no acidente = 0.107463 \n",
      "em janeiro.\n",
      "\n",
      "A proporção de ilesos/número total de pessoas envolvidas no acidente = 0.420011\n",
      "e a de feridos graves/número total de pessoas envolvidas no acidente = 0.111356 \n",
      "em fevereiro.\n",
      "\n",
      "A proporção de ilesos/número total de pessoas envolvidas no acidente = 0.401040\n",
      "e a de feridos graves/número total de pessoas envolvidas no acidente = 0.112421 \n",
      "em março.\n",
      "\n",
      "A proporção de ilesos/número total de pessoas envolvidas no acidente = 0.376492\n",
      "e a de feridos graves/número total de pessoas envolvidas no acidente = 0.117780 \n",
      "em abril.\n",
      "\n",
      "A proporção de ilesos/número total de pessoas envolvidas no acidente = 0.401271\n",
      "e a de feridos graves/número total de pessoas envolvidas no acidente = 0.115812 \n",
      "em maio.\n",
      "\n",
      "A proporção de ilesos/número total de pessoas envolvidas no acidente = 0.423486\n",
      "e a de feridos graves/número total de pessoas envolvidas no acidente = 0.115896 \n",
      "em junho.\n",
      "\n",
      "A proporção de ilesos/número total de pessoas envolvidas no acidente = 0.424454\n",
      "e a de feridos graves/número total de pessoas envolvidas no acidente = 0.108501 \n",
      "em julho.\n",
      "\n",
      "A proporção de ilesos/número total de pessoas envolvidas no acidente = 0.423510\n",
      "e a de feridos graves/número total de pessoas envolvidas no acidente = 0.118872 \n",
      "em agosto.\n",
      "\n",
      "A proporção de ilesos/número total de pessoas envolvidas no acidente = 0.416369\n",
      "e a de feridos graves/número total de pessoas envolvidas no acidente = 0.117303 \n",
      "em setembro.\n",
      "\n",
      "A proporção de ilesos/número total de pessoas envolvidas no acidente = 0.411188\n",
      "e a de feridos graves/número total de pessoas envolvidas no acidente = 0.119475 \n",
      "em outubro.\n",
      "\n",
      "A proporção de ilesos/número total de pessoas envolvidas no acidente = 0.407667\n",
      "e a de feridos graves/número total de pessoas envolvidas no acidente = 0.120060 \n",
      "em novembro.\n",
      "\n",
      "A proporção de ilesos/número total de pessoas envolvidas no acidente = 0.412464\n",
      "e a de feridos graves/número total de pessoas envolvidas no acidente = 0.121702 \n",
      "em dezembro.\n",
      "\n"
     ]
    }
   ],
   "source": [
    "\n",
    "for i in range(1,13):\n",
    "    prop = mes(dados20,i)\n",
    "    print('A proporção de ilesos/número total de pessoas envolvidas no acidente = %f\\ne a de feridos graves/número total de pessoas envolvidas no acidente = %f \\nem %s.\\n'%(prop[0], prop[1], dic[i]))\n"
   ]
  },
  {
   "cell_type": "markdown",
   "metadata": {},
   "source": [
    "### c) mostre, reorganizando o conjunto de dados, se a pandemia conseguiu diminuir ou não a incidência de acidentes nas rodovias federais."
   ]
  },
  {
   "cell_type": "markdown",
   "metadata": {},
   "source": [
    "- Criando as varíaveis **df** e **df_2** utilizando o comando  **.sort_values['Mês']**  que ordena os dados de acordo com o respectivo mês:"
   ]
  },
  {
   "cell_type": "code",
   "execution_count": 57,
   "metadata": {},
   "outputs": [
    {
     "data": {
      "text/html": [
       "<div>\n",
       "<style scoped>\n",
       "    .dataframe tbody tr th:only-of-type {\n",
       "        vertical-align: middle;\n",
       "    }\n",
       "\n",
       "    .dataframe tbody tr th {\n",
       "        vertical-align: top;\n",
       "    }\n",
       "\n",
       "    .dataframe thead th {\n",
       "        text-align: right;\n",
       "    }\n",
       "</style>\n",
       "<table border=\"1\" class=\"dataframe\">\n",
       "  <thead>\n",
       "    <tr style=\"text-align: right;\">\n",
       "      <th></th>\n",
       "      <th>id</th>\n",
       "      <th>data_inversa</th>\n",
       "      <th>dia_semana</th>\n",
       "      <th>horario</th>\n",
       "      <th>uf</th>\n",
       "      <th>br</th>\n",
       "      <th>km</th>\n",
       "      <th>municipio</th>\n",
       "      <th>causa_acidente</th>\n",
       "      <th>tipo_acidente</th>\n",
       "      <th>...</th>\n",
       "      <th>ilesos</th>\n",
       "      <th>ignorados</th>\n",
       "      <th>feridos</th>\n",
       "      <th>veiculos</th>\n",
       "      <th>latitude</th>\n",
       "      <th>longitude</th>\n",
       "      <th>regional</th>\n",
       "      <th>delegacia</th>\n",
       "      <th>uop</th>\n",
       "      <th>Mês</th>\n",
       "    </tr>\n",
       "  </thead>\n",
       "  <tbody>\n",
       "    <tr>\n",
       "      <th>0</th>\n",
       "      <td>182210.0</td>\n",
       "      <td>2019-01-01</td>\n",
       "      <td>terça-feira</td>\n",
       "      <td>01:30:00</td>\n",
       "      <td>SP</td>\n",
       "      <td>116.0</td>\n",
       "      <td>218</td>\n",
       "      <td>GUARULHOS</td>\n",
       "      <td>Falta de Atenção à Condução</td>\n",
       "      <td>Colisão com objeto estático</td>\n",
       "      <td>...</td>\n",
       "      <td>0</td>\n",
       "      <td>0</td>\n",
       "      <td>4</td>\n",
       "      <td>1</td>\n",
       "      <td>-23,46052014</td>\n",
       "      <td>-46,48772478</td>\n",
       "      <td>SR-SP</td>\n",
       "      <td>DEL6/1</td>\n",
       "      <td>UOP01/SP</td>\n",
       "      <td>1</td>\n",
       "    </tr>\n",
       "    <tr>\n",
       "      <th>3417</th>\n",
       "      <td>186833.0</td>\n",
       "      <td>2019-01-22</td>\n",
       "      <td>terça-feira</td>\n",
       "      <td>16:30:00</td>\n",
       "      <td>PR</td>\n",
       "      <td>376.0</td>\n",
       "      <td>545</td>\n",
       "      <td>PALMEIRA</td>\n",
       "      <td>Velocidade Incompatível</td>\n",
       "      <td>Derramamento de carga</td>\n",
       "      <td>...</td>\n",
       "      <td>1</td>\n",
       "      <td>0</td>\n",
       "      <td>0</td>\n",
       "      <td>1</td>\n",
       "      <td>-25,35258</td>\n",
       "      <td>-49,8373</td>\n",
       "      <td>SR-PR</td>\n",
       "      <td>DEL7/1</td>\n",
       "      <td>UOP05/PR</td>\n",
       "      <td>1</td>\n",
       "    </tr>\n",
       "    <tr>\n",
       "      <th>3416</th>\n",
       "      <td>186832.0</td>\n",
       "      <td>2019-01-22</td>\n",
       "      <td>terça-feira</td>\n",
       "      <td>16:10:00</td>\n",
       "      <td>PE</td>\n",
       "      <td>232.0</td>\n",
       "      <td>173</td>\n",
       "      <td>BELO JARDIM</td>\n",
       "      <td>Falta de Atenção à Condução</td>\n",
       "      <td>Colisão lateral</td>\n",
       "      <td>...</td>\n",
       "      <td>1</td>\n",
       "      <td>0</td>\n",
       "      <td>0</td>\n",
       "      <td>2</td>\n",
       "      <td>-8,34628</td>\n",
       "      <td>-36,43776</td>\n",
       "      <td>SR-PE</td>\n",
       "      <td>DEL11/2</td>\n",
       "      <td>UOP02/PE</td>\n",
       "      <td>1</td>\n",
       "    </tr>\n",
       "    <tr>\n",
       "      <th>3415</th>\n",
       "      <td>186830.0</td>\n",
       "      <td>2019-01-22</td>\n",
       "      <td>terça-feira</td>\n",
       "      <td>14:20:00</td>\n",
       "      <td>GO</td>\n",
       "      <td>153.0</td>\n",
       "      <td>113</td>\n",
       "      <td>SANTA TEREZA DE GOIAS</td>\n",
       "      <td>Condutor Dormindo</td>\n",
       "      <td>Saída de leito carroçável</td>\n",
       "      <td>...</td>\n",
       "      <td>0</td>\n",
       "      <td>0</td>\n",
       "      <td>4</td>\n",
       "      <td>1</td>\n",
       "      <td>-13,76133</td>\n",
       "      <td>-49,0282</td>\n",
       "      <td>SR-GO</td>\n",
       "      <td>DEL1/7</td>\n",
       "      <td>UOP01/GO</td>\n",
       "      <td>1</td>\n",
       "    </tr>\n",
       "    <tr>\n",
       "      <th>3414</th>\n",
       "      <td>186829.0</td>\n",
       "      <td>2019-01-22</td>\n",
       "      <td>terça-feira</td>\n",
       "      <td>17:00:00</td>\n",
       "      <td>MG</td>\n",
       "      <td>40.0</td>\n",
       "      <td>481,3</td>\n",
       "      <td>SETE LAGOAS</td>\n",
       "      <td>Falta de Atenção à Condução</td>\n",
       "      <td>Colisão traseira</td>\n",
       "      <td>...</td>\n",
       "      <td>3</td>\n",
       "      <td>0</td>\n",
       "      <td>0</td>\n",
       "      <td>2</td>\n",
       "      <td>-19,5623</td>\n",
       "      <td>-44,2384</td>\n",
       "      <td>SR-MG</td>\n",
       "      <td>DEL4/2</td>\n",
       "      <td>UOP01/MG</td>\n",
       "      <td>1</td>\n",
       "    </tr>\n",
       "    <tr>\n",
       "      <th>...</th>\n",
       "      <td>...</td>\n",
       "      <td>...</td>\n",
       "      <td>...</td>\n",
       "      <td>...</td>\n",
       "      <td>...</td>\n",
       "      <td>...</td>\n",
       "      <td>...</td>\n",
       "      <td>...</td>\n",
       "      <td>...</td>\n",
       "      <td>...</td>\n",
       "      <td>...</td>\n",
       "      <td>...</td>\n",
       "      <td>...</td>\n",
       "      <td>...</td>\n",
       "      <td>...</td>\n",
       "      <td>...</td>\n",
       "      <td>...</td>\n",
       "      <td>...</td>\n",
       "      <td>...</td>\n",
       "      <td>...</td>\n",
       "      <td>...</td>\n",
       "    </tr>\n",
       "    <tr>\n",
       "      <th>63120</th>\n",
       "      <td>255493.0</td>\n",
       "      <td>2019-12-12</td>\n",
       "      <td>quinta-feira</td>\n",
       "      <td>08:15:00</td>\n",
       "      <td>CE</td>\n",
       "      <td>116.0</td>\n",
       "      <td>4</td>\n",
       "      <td>FORTALEZA</td>\n",
       "      <td>Falta de Atenção à Condução</td>\n",
       "      <td>Queda de ocupante de veículo</td>\n",
       "      <td>...</td>\n",
       "      <td>0</td>\n",
       "      <td>0</td>\n",
       "      <td>1</td>\n",
       "      <td>1</td>\n",
       "      <td>-3,786721</td>\n",
       "      <td>-38,51146</td>\n",
       "      <td>SR-CE</td>\n",
       "      <td>DEL16/1</td>\n",
       "      <td>UOP02/CE</td>\n",
       "      <td>12</td>\n",
       "    </tr>\n",
       "    <tr>\n",
       "      <th>63119</th>\n",
       "      <td>255492.0</td>\n",
       "      <td>2019-12-12</td>\n",
       "      <td>quinta-feira</td>\n",
       "      <td>04:15:00</td>\n",
       "      <td>RO</td>\n",
       "      <td>364.0</td>\n",
       "      <td>184,5</td>\n",
       "      <td>PIMENTA BUENO</td>\n",
       "      <td>Animais na Pista</td>\n",
       "      <td>Saída de leito carroçável</td>\n",
       "      <td>...</td>\n",
       "      <td>1</td>\n",
       "      <td>0</td>\n",
       "      <td>2</td>\n",
       "      <td>1</td>\n",
       "      <td>-11,74932</td>\n",
       "      <td>-61,09631</td>\n",
       "      <td>SR-RO</td>\n",
       "      <td>DEL21/2</td>\n",
       "      <td>UOP02/RO</td>\n",
       "      <td>12</td>\n",
       "    </tr>\n",
       "    <tr>\n",
       "      <th>63118</th>\n",
       "      <td>255491.0</td>\n",
       "      <td>2019-12-12</td>\n",
       "      <td>quinta-feira</td>\n",
       "      <td>07:15:00</td>\n",
       "      <td>RJ</td>\n",
       "      <td>101.0</td>\n",
       "      <td>296</td>\n",
       "      <td>ITABORAI</td>\n",
       "      <td>Falta de Atenção à Condução</td>\n",
       "      <td>Colisão lateral</td>\n",
       "      <td>...</td>\n",
       "      <td>2</td>\n",
       "      <td>0</td>\n",
       "      <td>1</td>\n",
       "      <td>2</td>\n",
       "      <td>-22,76705</td>\n",
       "      <td>-42,9102</td>\n",
       "      <td>SR-RJ</td>\n",
       "      <td>DEL5/2</td>\n",
       "      <td>UOP02/RJ</td>\n",
       "      <td>12</td>\n",
       "    </tr>\n",
       "    <tr>\n",
       "      <th>63128</th>\n",
       "      <td>255501.0</td>\n",
       "      <td>2019-12-12</td>\n",
       "      <td>quinta-feira</td>\n",
       "      <td>09:10:00</td>\n",
       "      <td>RJ</td>\n",
       "      <td>101.0</td>\n",
       "      <td>265</td>\n",
       "      <td>RIO BONITO</td>\n",
       "      <td>Falta de Atenção à Condução</td>\n",
       "      <td>Colisão transversal</td>\n",
       "      <td>...</td>\n",
       "      <td>1</td>\n",
       "      <td>1</td>\n",
       "      <td>1</td>\n",
       "      <td>2</td>\n",
       "      <td>-22,7136</td>\n",
       "      <td>-42,64391</td>\n",
       "      <td>SR-RJ</td>\n",
       "      <td>DEL5/2</td>\n",
       "      <td>UOP02/RJ</td>\n",
       "      <td>12</td>\n",
       "    </tr>\n",
       "    <tr>\n",
       "      <th>62800</th>\n",
       "      <td>255143.0</td>\n",
       "      <td>2019-12-10</td>\n",
       "      <td>terça-feira</td>\n",
       "      <td>12:30:00</td>\n",
       "      <td>RJ</td>\n",
       "      <td>101.0</td>\n",
       "      <td>322</td>\n",
       "      <td>NITEROI</td>\n",
       "      <td>Falta de Atenção à Condução</td>\n",
       "      <td>Queda de ocupante de veículo</td>\n",
       "      <td>...</td>\n",
       "      <td>0</td>\n",
       "      <td>0</td>\n",
       "      <td>1</td>\n",
       "      <td>1</td>\n",
       "      <td>-22,87892</td>\n",
       "      <td>-43,11068</td>\n",
       "      <td>SR-RJ</td>\n",
       "      <td>DEL5/2</td>\n",
       "      <td>UOP01/RJ</td>\n",
       "      <td>12</td>\n",
       "    </tr>\n",
       "  </tbody>\n",
       "</table>\n",
       "<p>67446 rows × 31 columns</p>\n",
       "</div>"
      ],
      "text/plain": [
       "             id data_inversa    dia_semana   horario  uf     br     km  \\\n",
       "0      182210.0   2019-01-01   terça-feira  01:30:00  SP  116.0    218   \n",
       "3417   186833.0   2019-01-22   terça-feira  16:30:00  PR  376.0    545   \n",
       "3416   186832.0   2019-01-22   terça-feira  16:10:00  PE  232.0    173   \n",
       "3415   186830.0   2019-01-22   terça-feira  14:20:00  GO  153.0    113   \n",
       "3414   186829.0   2019-01-22   terça-feira  17:00:00  MG   40.0  481,3   \n",
       "...         ...          ...           ...       ...  ..    ...    ...   \n",
       "63120  255493.0   2019-12-12  quinta-feira  08:15:00  CE  116.0      4   \n",
       "63119  255492.0   2019-12-12  quinta-feira  04:15:00  RO  364.0  184,5   \n",
       "63118  255491.0   2019-12-12  quinta-feira  07:15:00  RJ  101.0    296   \n",
       "63128  255501.0   2019-12-12  quinta-feira  09:10:00  RJ  101.0    265   \n",
       "62800  255143.0   2019-12-10   terça-feira  12:30:00  RJ  101.0    322   \n",
       "\n",
       "                   municipio               causa_acidente  \\\n",
       "0                  GUARULHOS  Falta de Atenção à Condução   \n",
       "3417                PALMEIRA      Velocidade Incompatível   \n",
       "3416             BELO JARDIM  Falta de Atenção à Condução   \n",
       "3415   SANTA TEREZA DE GOIAS            Condutor Dormindo   \n",
       "3414             SETE LAGOAS  Falta de Atenção à Condução   \n",
       "...                      ...                          ...   \n",
       "63120              FORTALEZA  Falta de Atenção à Condução   \n",
       "63119          PIMENTA BUENO             Animais na Pista   \n",
       "63118               ITABORAI  Falta de Atenção à Condução   \n",
       "63128             RIO BONITO  Falta de Atenção à Condução   \n",
       "62800                NITEROI  Falta de Atenção à Condução   \n",
       "\n",
       "                      tipo_acidente  ... ilesos ignorados feridos veiculos  \\\n",
       "0       Colisão com objeto estático  ...      0         0       4        1   \n",
       "3417          Derramamento de carga  ...      1         0       0        1   \n",
       "3416                Colisão lateral  ...      1         0       0        2   \n",
       "3415      Saída de leito carroçável  ...      0         0       4        1   \n",
       "3414               Colisão traseira  ...      3         0       0        2   \n",
       "...                             ...  ...    ...       ...     ...      ...   \n",
       "63120  Queda de ocupante de veículo  ...      0         0       1        1   \n",
       "63119     Saída de leito carroçável  ...      1         0       2        1   \n",
       "63118               Colisão lateral  ...      2         0       1        2   \n",
       "63128           Colisão transversal  ...      1         1       1        2   \n",
       "62800  Queda de ocupante de veículo  ...      0         0       1        1   \n",
       "\n",
       "           latitude     longitude regional  delegacia       uop  Mês  \n",
       "0      -23,46052014  -46,48772478    SR-SP     DEL6/1  UOP01/SP    1  \n",
       "3417      -25,35258      -49,8373    SR-PR     DEL7/1  UOP05/PR    1  \n",
       "3416       -8,34628     -36,43776    SR-PE    DEL11/2  UOP02/PE    1  \n",
       "3415      -13,76133      -49,0282    SR-GO     DEL1/7  UOP01/GO    1  \n",
       "3414       -19,5623      -44,2384    SR-MG     DEL4/2  UOP01/MG    1  \n",
       "...             ...           ...      ...        ...       ...  ...  \n",
       "63120     -3,786721     -38,51146    SR-CE    DEL16/1  UOP02/CE   12  \n",
       "63119     -11,74932     -61,09631    SR-RO    DEL21/2  UOP02/RO   12  \n",
       "63118     -22,76705      -42,9102    SR-RJ     DEL5/2  UOP02/RJ   12  \n",
       "63128      -22,7136     -42,64391    SR-RJ     DEL5/2  UOP02/RJ   12  \n",
       "62800     -22,87892     -43,11068    SR-RJ     DEL5/2  UOP01/RJ   12  \n",
       "\n",
       "[67446 rows x 31 columns]"
      ]
     },
     "execution_count": 57,
     "metadata": {},
     "output_type": "execute_result"
    }
   ],
   "source": [
    "d19 = dados19.sort_values(['Mês'])\n",
    "d20 = dados20.sort_values(['Mês'])\n",
    "d19"
   ]
  },
  {
   "cell_type": "markdown",
   "metadata": {},
   "source": [
    "- Criando as listas **acidentes_19**** e **acidentes_20** para armazenarem o número de acidentes em cada mês de 2019 e 2020 respectivamente:"
   ]
  },
  {
   "cell_type": "code",
   "execution_count": 59,
   "metadata": {},
   "outputs": [],
   "source": [
    "acidentes_19 = []\n",
    "acidentes_20 = []\n",
    "\n"
   ]
  },
  {
   "cell_type": "markdown",
   "metadata": {},
   "source": [
    "- Utilizando o laço de repetição **for** para denterminar o número de acidentes a cada mês(**len(numero)**)\n",
    "para inserir nas listas **acidentes_19** e **acidentes_20**:\n",
    "\n"
   ]
  },
  {
   "cell_type": "code",
   "execution_count": 60,
   "metadata": {},
   "outputs": [],
   "source": [
    "for j in range(1,13):\n",
    "        v = d19['Mês'] == j\n",
    "        numero = d19[v]['Mês']\n",
    "        acidentes_19.append(len(numero)) \n",
    "    \n",
    "for h in range(1,13):\n",
    "        v = d20['Mês'] == h\n",
    "        numero = d20[v]['Mês']\n",
    "        acidentes_20.append(len(numero)) "
   ]
  },
  {
   "cell_type": "markdown",
   "metadata": {},
   "source": [
    "- Importando a biblioteca **Matplotlib** para visualização de dados:"
   ]
  },
  {
   "cell_type": "code",
   "execution_count": 62,
   "metadata": {
    "scrolled": true
   },
   "outputs": [
    {
     "data": {
      "text/plain": [
       "[5120, 4963, 5593, 5436, 5473, 5578, 5794, 5703, 5868, 5881, 5802, 6235]"
      ]
     },
     "execution_count": 62,
     "metadata": {},
     "output_type": "execute_result"
    }
   ],
   "source": [
    "import matplotlib.pyplot as plt\n",
    "acidentes_19"
   ]
  },
  {
   "cell_type": "markdown",
   "metadata": {},
   "source": [
    "- Criando o dicionário **data**, para utilizar na elaboração do DataFrame da comparação:"
   ]
  },
  {
   "cell_type": "code",
   "execution_count": 50,
   "metadata": {},
   "outputs": [],
   "source": [
    "data = {'MÊS': list(dic.values()),\n",
    "        '2019': acidentes_19,\n",
    "        '2020': acidentes_20\n",
    "       }"
   ]
  },
  {
   "cell_type": "markdown",
   "metadata": {},
   "source": [
    "- Criando o Data Frame **grafico**, usando como parâmetro o dicionário **data** e as colunas **'MÊS','2019','2020'**:"
   ]
  },
  {
   "cell_type": "code",
   "execution_count": 53,
   "metadata": {},
   "outputs": [
    {
     "data": {
      "text/html": [
       "<div>\n",
       "<style scoped>\n",
       "    .dataframe tbody tr th:only-of-type {\n",
       "        vertical-align: middle;\n",
       "    }\n",
       "\n",
       "    .dataframe tbody tr th {\n",
       "        vertical-align: top;\n",
       "    }\n",
       "\n",
       "    .dataframe thead th {\n",
       "        text-align: right;\n",
       "    }\n",
       "</style>\n",
       "<table border=\"1\" class=\"dataframe\">\n",
       "  <thead>\n",
       "    <tr style=\"text-align: right;\">\n",
       "      <th></th>\n",
       "      <th>MÊS</th>\n",
       "      <th>2019</th>\n",
       "      <th>2020</th>\n",
       "    </tr>\n",
       "  </thead>\n",
       "  <tbody>\n",
       "    <tr>\n",
       "      <th>0</th>\n",
       "      <td>janeiro</td>\n",
       "      <td>5120</td>\n",
       "      <td>5497</td>\n",
       "    </tr>\n",
       "    <tr>\n",
       "      <th>1</th>\n",
       "      <td>fevereiro</td>\n",
       "      <td>4963</td>\n",
       "      <td>5467</td>\n",
       "    </tr>\n",
       "    <tr>\n",
       "      <th>2</th>\n",
       "      <td>março</td>\n",
       "      <td>5593</td>\n",
       "      <td>4789</td>\n",
       "    </tr>\n",
       "    <tr>\n",
       "      <th>3</th>\n",
       "      <td>abril</td>\n",
       "      <td>5436</td>\n",
       "      <td>3880</td>\n",
       "    </tr>\n",
       "    <tr>\n",
       "      <th>4</th>\n",
       "      <td>maio</td>\n",
       "      <td>5473</td>\n",
       "      <td>4653</td>\n",
       "    </tr>\n",
       "    <tr>\n",
       "      <th>5</th>\n",
       "      <td>junho</td>\n",
       "      <td>5578</td>\n",
       "      <td>4731</td>\n",
       "    </tr>\n",
       "    <tr>\n",
       "      <th>6</th>\n",
       "      <td>julho</td>\n",
       "      <td>5794</td>\n",
       "      <td>5124</td>\n",
       "    </tr>\n",
       "    <tr>\n",
       "      <th>7</th>\n",
       "      <td>agosto</td>\n",
       "      <td>5703</td>\n",
       "      <td>5637</td>\n",
       "    </tr>\n",
       "    <tr>\n",
       "      <th>8</th>\n",
       "      <td>setembro</td>\n",
       "      <td>5868</td>\n",
       "      <td>5683</td>\n",
       "    </tr>\n",
       "    <tr>\n",
       "      <th>9</th>\n",
       "      <td>outubro</td>\n",
       "      <td>5881</td>\n",
       "      <td>6109</td>\n",
       "    </tr>\n",
       "    <tr>\n",
       "      <th>10</th>\n",
       "      <td>novembro</td>\n",
       "      <td>5802</td>\n",
       "      <td>5722</td>\n",
       "    </tr>\n",
       "    <tr>\n",
       "      <th>11</th>\n",
       "      <td>dezembro</td>\n",
       "      <td>6235</td>\n",
       "      <td>6155</td>\n",
       "    </tr>\n",
       "  </tbody>\n",
       "</table>\n",
       "</div>"
      ],
      "text/plain": [
       "          MÊS  2019  2020\n",
       "0     janeiro  5120  5497\n",
       "1   fevereiro  4963  5467\n",
       "2       março  5593  4789\n",
       "3       abril  5436  3880\n",
       "4        maio  5473  4653\n",
       "5       junho  5578  4731\n",
       "6       julho  5794  5124\n",
       "7      agosto  5703  5637\n",
       "8    setembro  5868  5683\n",
       "9     outubro  5881  6109\n",
       "10   novembro  5802  5722\n",
       "11   dezembro  6235  6155"
      ]
     },
     "execution_count": 53,
     "metadata": {},
     "output_type": "execute_result"
    }
   ],
   "source": [
    "grafico = pd.DataFrame(data,columns=['MÊS','2019','2020'])\n",
    "grafico"
   ]
  },
  {
   "cell_type": "markdown",
   "metadata": {},
   "source": [
    "- **Criando o gráfico de visualização** e definindo as propiedades:"
   ]
  },
  {
   "cell_type": "code",
   "execution_count": 52,
   "metadata": {},
   "outputs": [
    {
     "data": {
      "image/png": "[encoded data removed]",
      "text/plain": [
       "<Figure size 432x288 with 1 Axes>"
      ]
     },
     "metadata": {
      "needs_background": "light"
     },
     "output_type": "display_data"
    }
   ],
   "source": [
    "grafico.plot(x ='MÊS', y=['2019','2020'], kind = 'line') # Criando o gráfico \n",
    "plt.ylabel('Nº ACIDENTES') # Definindo o label de y ou \"título\" de y\n",
    "plt.title('2019(NORMAL) VS 2020(PANDEMIA)') # Definindo o título do gráfico\n",
    "plt.show() # Exibindo o gráfico completo"
   ]
  },
  {
   "cell_type": "markdown",
   "metadata": {},
   "source": [
    "- No gráfico acima é possível observar que no início(março - abril) da pandemia o número de acidentes foi reduzindo, entretanto a partir de maio houve uma evolução constante de crescimento. Portanto durante um curto período a pandemia conseguiu diminuir, mas depois a incidência de acidentes nas rodovias federais aumentou consideravelmente."
   ]
  }
 ],
 "metadata": {
  "kernelspec": {
   "display_name": "Python 3",
   "language": "python",
   "name": "python3"
  },
  "language_info": {
   "codemirror_mode": {
    "name": "ipython",
    "version": 3
   },
   "file_extension": ".py",
   "mimetype": "text/x-python",
   "name": "python",
   "nbconvert_exporter": "python",
   "pygments_lexer": "ipython3",
   "version": "3.8.5"
  }
 },
 "nbformat": 4,
 "nbformat_minor": 4
}
